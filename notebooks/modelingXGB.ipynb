{
 "cells": [
  {
   "cell_type": "code",
   "execution_count": 387,
   "metadata": {},
   "outputs": [],
   "source": [
    "import numpy as np\n",
    "import pandas as pd\n",
    "import xgboost as xgb\n",
    "from xgboost import XGBRegressor\n",
    "from datetime import datetime\n",
    "import matplotlib.pyplot as plt\n",
    "from sklearn.metrics import mean_absolute_error, mean_squared_error\n",
    "from sklearn.model_selection import train_test_split\n",
    "from sklearn.model_selection import RepeatedKFold\n",
    "\n",
    "import optuna \n",
    "from optuna import Trial, visualization\n",
    "from optuna.samplers import TPESampler\n",
    "from optuna import create_study\n",
    "from optuna.integration import XGBoostPruningCallback\n",
    "pd.set_option(\"display.max_rows\", 100)"
   ]
  },
  {
   "cell_type": "code",
   "execution_count": null,
   "metadata": {},
   "outputs": [],
   "source": []
  },
  {
   "cell_type": "code",
   "execution_count": 397,
   "metadata": {},
   "outputs": [
    {
     "data": {
      "text/html": [
       "<div>\n",
       "<style scoped>\n",
       "    .dataframe tbody tr th:only-of-type {\n",
       "        vertical-align: middle;\n",
       "    }\n",
       "\n",
       "    .dataframe tbody tr th {\n",
       "        vertical-align: top;\n",
       "    }\n",
       "\n",
       "    .dataframe thead th {\n",
       "        text-align: right;\n",
       "    }\n",
       "</style>\n",
       "<table border=\"1\" class=\"dataframe\">\n",
       "  <thead>\n",
       "    <tr style=\"text-align: right;\">\n",
       "      <th></th>\n",
       "      <th>ProductType</th>\n",
       "      <th>Manufacturer</th>\n",
       "      <th>Area Code</th>\n",
       "      <th>Sourcing Channel</th>\n",
       "      <th>Product Size</th>\n",
       "      <th>Product Type</th>\n",
       "      <th>Month of Sourcing</th>\n",
       "      <th>Sourcing Cost</th>\n",
       "    </tr>\n",
       "  </thead>\n",
       "  <tbody>\n",
       "    <tr>\n",
       "      <th>0</th>\n",
       "      <td>NTM3</td>\n",
       "      <td>X1</td>\n",
       "      <td>A28</td>\n",
       "      <td>WHOLESALE</td>\n",
       "      <td>Large</td>\n",
       "      <td>Powder</td>\n",
       "      <td>May-21</td>\n",
       "      <td>10.16</td>\n",
       "    </tr>\n",
       "    <tr>\n",
       "      <th>1</th>\n",
       "      <td>NTM2</td>\n",
       "      <td>X1</td>\n",
       "      <td>A9</td>\n",
       "      <td>DIRECT</td>\n",
       "      <td>Large</td>\n",
       "      <td>Powder</td>\n",
       "      <td>Oct-20</td>\n",
       "      <td>134.28</td>\n",
       "    </tr>\n",
       "    <tr>\n",
       "      <th>2</th>\n",
       "      <td>NTM3</td>\n",
       "      <td>X2</td>\n",
       "      <td>A20</td>\n",
       "      <td>DIRECT</td>\n",
       "      <td>Large</td>\n",
       "      <td>Powder</td>\n",
       "      <td>Dec-20</td>\n",
       "      <td>12.46</td>\n",
       "    </tr>\n",
       "    <tr>\n",
       "      <th>3</th>\n",
       "      <td>NTM3</td>\n",
       "      <td>X1</td>\n",
       "      <td>A18</td>\n",
       "      <td>WHOLESALE</td>\n",
       "      <td>Small</td>\n",
       "      <td>Powder</td>\n",
       "      <td>Feb-21</td>\n",
       "      <td>107.22</td>\n",
       "    </tr>\n",
       "    <tr>\n",
       "      <th>4</th>\n",
       "      <td>NTM2</td>\n",
       "      <td>X1</td>\n",
       "      <td>A28</td>\n",
       "      <td>DIRECT</td>\n",
       "      <td>Large</td>\n",
       "      <td>Liquid</td>\n",
       "      <td>Nov-20</td>\n",
       "      <td>197.76</td>\n",
       "    </tr>\n",
       "  </tbody>\n",
       "</table>\n",
       "</div>"
      ],
      "text/plain": [
       "  ProductType Manufacturer Area Code Sourcing Channel Product Size  \\\n",
       "0        NTM3           X1       A28        WHOLESALE        Large   \n",
       "1        NTM2           X1        A9           DIRECT        Large   \n",
       "2        NTM3           X2       A20           DIRECT        Large   \n",
       "3        NTM3           X1       A18        WHOLESALE        Small   \n",
       "4        NTM2           X1       A28           DIRECT        Large   \n",
       "\n",
       "  Product Type Month of Sourcing  Sourcing Cost  \n",
       "0       Powder            May-21          10.16  \n",
       "1       Powder            Oct-20         134.28  \n",
       "2       Powder            Dec-20          12.46  \n",
       "3       Powder            Feb-21         107.22  \n",
       "4       Liquid            Nov-20         197.76  "
      ]
     },
     "execution_count": 397,
     "metadata": {},
     "output_type": "execute_result"
    }
   ],
   "source": [
    "data = pd.read_csv(\"../data/processed/data_outliers_treated_v2.csv\")\n",
    "data.head()"
   ]
  },
  {
   "cell_type": "code",
   "execution_count": 398,
   "metadata": {},
   "outputs": [],
   "source": [
    "def preprocess_data(data):\n",
    "    df_grouped = data.groupby(data.columns.tolist()[:-1], as_index = False).agg({'Sourcing Cost': ['mean']})\n",
    "    df_grouped.columns = [\"_\".join(x).rstrip(\"_\") for x in df_grouped.columns.ravel()]\n",
    "    df_grouped['Month of Sourcing'] = df_grouped['Month of Sourcing'].apply(lambda x: datetime.strptime(\"01-\" + x, '%d-%b-%y')) \n",
    "    df_grouped.columns = [column.replace(\" \", \"_\") for column in df_grouped.columns]\n",
    "    return df_grouped"
   ]
  },
  {
   "cell_type": "code",
   "execution_count": 399,
   "metadata": {},
   "outputs": [
    {
     "data": {
      "text/html": [
       "<div>\n",
       "<style scoped>\n",
       "    .dataframe tbody tr th:only-of-type {\n",
       "        vertical-align: middle;\n",
       "    }\n",
       "\n",
       "    .dataframe tbody tr th {\n",
       "        vertical-align: top;\n",
       "    }\n",
       "\n",
       "    .dataframe thead th {\n",
       "        text-align: right;\n",
       "    }\n",
       "</style>\n",
       "<table border=\"1\" class=\"dataframe\">\n",
       "  <thead>\n",
       "    <tr style=\"text-align: right;\">\n",
       "      <th></th>\n",
       "      <th>ProductType</th>\n",
       "      <th>Manufacturer</th>\n",
       "      <th>Area_Code</th>\n",
       "      <th>Sourcing_Channel</th>\n",
       "      <th>Product_Size</th>\n",
       "      <th>Product_Type</th>\n",
       "      <th>Month_of_Sourcing</th>\n",
       "      <th>Sourcing_Cost_mean</th>\n",
       "    </tr>\n",
       "  </thead>\n",
       "  <tbody>\n",
       "    <tr>\n",
       "      <th>0</th>\n",
       "      <td>NTM1</td>\n",
       "      <td>X1</td>\n",
       "      <td>A1</td>\n",
       "      <td>DIRECT</td>\n",
       "      <td>Small</td>\n",
       "      <td>Powder</td>\n",
       "      <td>2021-04-01</td>\n",
       "      <td>93.266935</td>\n",
       "    </tr>\n",
       "    <tr>\n",
       "      <th>1</th>\n",
       "      <td>NTM1</td>\n",
       "      <td>X1</td>\n",
       "      <td>A1</td>\n",
       "      <td>DIRECT</td>\n",
       "      <td>Small</td>\n",
       "      <td>Powder</td>\n",
       "      <td>2020-08-01</td>\n",
       "      <td>99.687042</td>\n",
       "    </tr>\n",
       "    <tr>\n",
       "      <th>2</th>\n",
       "      <td>NTM1</td>\n",
       "      <td>X1</td>\n",
       "      <td>A1</td>\n",
       "      <td>DIRECT</td>\n",
       "      <td>Small</td>\n",
       "      <td>Powder</td>\n",
       "      <td>2020-12-01</td>\n",
       "      <td>109.121740</td>\n",
       "    </tr>\n",
       "    <tr>\n",
       "      <th>3</th>\n",
       "      <td>NTM1</td>\n",
       "      <td>X1</td>\n",
       "      <td>A1</td>\n",
       "      <td>DIRECT</td>\n",
       "      <td>Small</td>\n",
       "      <td>Powder</td>\n",
       "      <td>2021-02-01</td>\n",
       "      <td>98.773374</td>\n",
       "    </tr>\n",
       "    <tr>\n",
       "      <th>4</th>\n",
       "      <td>NTM1</td>\n",
       "      <td>X1</td>\n",
       "      <td>A1</td>\n",
       "      <td>DIRECT</td>\n",
       "      <td>Small</td>\n",
       "      <td>Powder</td>\n",
       "      <td>2021-01-01</td>\n",
       "      <td>98.160315</td>\n",
       "    </tr>\n",
       "  </tbody>\n",
       "</table>\n",
       "</div>"
      ],
      "text/plain": [
       "  ProductType Manufacturer Area_Code Sourcing_Channel Product_Size  \\\n",
       "0        NTM1           X1        A1           DIRECT        Small   \n",
       "1        NTM1           X1        A1           DIRECT        Small   \n",
       "2        NTM1           X1        A1           DIRECT        Small   \n",
       "3        NTM1           X1        A1           DIRECT        Small   \n",
       "4        NTM1           X1        A1           DIRECT        Small   \n",
       "\n",
       "  Product_Type Month_of_Sourcing  Sourcing_Cost_mean  \n",
       "0       Powder        2021-04-01           93.266935  \n",
       "1       Powder        2020-08-01           99.687042  \n",
       "2       Powder        2020-12-01          109.121740  \n",
       "3       Powder        2021-02-01           98.773374  \n",
       "4       Powder        2021-01-01           98.160315  "
      ]
     },
     "execution_count": 399,
     "metadata": {},
     "output_type": "execute_result"
    }
   ],
   "source": [
    "df_processed = preprocess_data(data)\n",
    "df_processed.head()"
   ]
  },
  {
   "cell_type": "code",
   "execution_count": null,
   "metadata": {},
   "outputs": [],
   "source": []
  },
  {
   "cell_type": "code",
   "execution_count": 107,
   "metadata": {},
   "outputs": [],
   "source": [
    "#looking at the high values"
   ]
  },
  {
   "cell_type": "code",
   "execution_count": 108,
   "metadata": {},
   "outputs": [],
   "source": [
    "val1 = df_processed.groupby(['Manufacturer', 'Area_Code', 'Sourcing_Channel', 'Product_Size', 'Product_Type'])['Sourcing_Cost_mean'].mean().tolist()"
   ]
  },
  {
   "cell_type": "code",
   "execution_count": 109,
   "metadata": {},
   "outputs": [],
   "source": [
    "val2  = df_processed.groupby(['Manufacturer', 'Area_Code', 'Product_Size', 'Product_Type'])['Sourcing_Cost_mean'].mean().tolist()"
   ]
  },
  {
   "cell_type": "code",
   "execution_count": 110,
   "metadata": {},
   "outputs": [],
   "source": [
    "val3 = df_processed.groupby(['Manufacturer', 'Product_Type'])['Sourcing_Cost_mean'].mean().tolist()"
   ]
  },
  {
   "cell_type": "code",
   "execution_count": 111,
   "metadata": {},
   "outputs": [],
   "source": [
    "df_ = pd.DataFrame()\n",
    "df_['val1'] = val1\n",
    "df_['val2'] = val2 + [0, 0, 0, 0]"
   ]
  },
  {
   "cell_type": "code",
   "execution_count": 112,
   "metadata": {},
   "outputs": [],
   "source": [
    "import seaborn as sns"
   ]
  },
  {
   "cell_type": "code",
   "execution_count": 113,
   "metadata": {},
   "outputs": [
    {
     "data": {
      "image/png": "[encoded data removed]",
      "text/plain": [
       "<Figure size 1080x432 with 1 Axes>"
      ]
     },
     "metadata": {
      "needs_background": "light"
     },
     "output_type": "display_data"
    }
   ],
   "source": [
    "plt.figure(figsize = (15, 6))\n",
    "l1 = sns.histplot(val1, kde = True)\n",
    "sns.histplot(val2, kde = True)\n",
    "# l2 = sns.histplot(val3, kde = True)\n",
    "plt.show()\n"
   ]
  },
  {
   "cell_type": "code",
   "execution_count": 255,
   "metadata": {},
   "outputs": [],
   "source": [
    "df_processed.drop(columns = ['Sourcing_Channel'], inplace = True)"
   ]
  },
  {
   "cell_type": "code",
   "execution_count": null,
   "metadata": {},
   "outputs": [],
   "source": []
  },
  {
   "cell_type": "code",
   "execution_count": null,
   "metadata": {},
   "outputs": [],
   "source": []
  },
  {
   "cell_type": "code",
   "execution_count": null,
   "metadata": {},
   "outputs": [],
   "source": []
  },
  {
   "cell_type": "markdown",
   "metadata": {},
   "source": [
    "### Encoding the Columns"
   ]
  },
  {
   "cell_type": "markdown",
   "metadata": {},
   "source": [
    "For column: Product Size: Perform Label Encoding as it is an Ordinal Column <br>\n",
    "For column: ProductType, Manufacturer and Product_Type: Perform OHE as these are Nominal and have lesser categories. <br>\n",
    "For column: Area Code: Perform Hash/Binary Encoding"
   ]
  },
  {
   "cell_type": "code",
   "execution_count": 69,
   "metadata": {},
   "outputs": [],
   "source": [
    "import category_encoders as ce"
   ]
  },
  {
   "cell_type": "code",
   "execution_count": null,
   "metadata": {},
   "outputs": [],
   "source": [
    "   "
   ]
  },
  {
   "cell_type": "code",
   "execution_count": 256,
   "metadata": {},
   "outputs": [
    {
     "name": "stderr",
     "output_type": "stream",
     "text": [
      "C:\\Users\\ndh00560\\AppData\\Local\\Continuum\\anaconda3\\envs\\neuralprophet\\lib\\site-packages\\category_encoders\\utils.py:21: FutureWarning:\n",
      "\n",
      "is_categorical is deprecated and will be removed in a future version.  Use is_categorical_dtype instead\n",
      "\n"
     ]
    }
   ],
   "source": [
    "encoder1= ce.OrdinalEncoder(cols=['Product_Size'],return_df=True,\n",
    "                           mapping=[{'col':'Product_Size',\n",
    "'mapping':{'Small': 1, 'Large': 2, 'ExtraLarge': 3}}])\n",
    "df_encoded = encoder1.fit_transform(df_processed)"
   ]
  },
  {
   "cell_type": "code",
   "execution_count": 257,
   "metadata": {},
   "outputs": [
    {
     "data": {
      "text/html": [
       "<div>\n",
       "<style scoped>\n",
       "    .dataframe tbody tr th:only-of-type {\n",
       "        vertical-align: middle;\n",
       "    }\n",
       "\n",
       "    .dataframe tbody tr th {\n",
       "        vertical-align: top;\n",
       "    }\n",
       "\n",
       "    .dataframe thead th {\n",
       "        text-align: right;\n",
       "    }\n",
       "</style>\n",
       "<table border=\"1\" class=\"dataframe\">\n",
       "  <thead>\n",
       "    <tr style=\"text-align: right;\">\n",
       "      <th></th>\n",
       "      <th>Area_Code</th>\n",
       "      <th>Product_Size</th>\n",
       "      <th>Month_of_Sourcing</th>\n",
       "      <th>Sourcing_Cost_mean</th>\n",
       "      <th>ProductType_NTM2</th>\n",
       "      <th>ProductType_NTM3</th>\n",
       "      <th>Manufacturer_X2</th>\n",
       "      <th>Manufacturer_X3</th>\n",
       "      <th>Product_Type_Powder</th>\n",
       "    </tr>\n",
       "  </thead>\n",
       "  <tbody>\n",
       "    <tr>\n",
       "      <th>0</th>\n",
       "      <td>A1</td>\n",
       "      <td>1</td>\n",
       "      <td>2021-04-01</td>\n",
       "      <td>92.813339</td>\n",
       "      <td>0</td>\n",
       "      <td>0</td>\n",
       "      <td>0</td>\n",
       "      <td>0</td>\n",
       "      <td>1</td>\n",
       "    </tr>\n",
       "    <tr>\n",
       "      <th>1</th>\n",
       "      <td>A1</td>\n",
       "      <td>1</td>\n",
       "      <td>2020-08-01</td>\n",
       "      <td>94.795753</td>\n",
       "      <td>0</td>\n",
       "      <td>0</td>\n",
       "      <td>0</td>\n",
       "      <td>0</td>\n",
       "      <td>1</td>\n",
       "    </tr>\n",
       "    <tr>\n",
       "      <th>2</th>\n",
       "      <td>A1</td>\n",
       "      <td>1</td>\n",
       "      <td>2020-12-01</td>\n",
       "      <td>106.372132</td>\n",
       "      <td>0</td>\n",
       "      <td>0</td>\n",
       "      <td>0</td>\n",
       "      <td>0</td>\n",
       "      <td>1</td>\n",
       "    </tr>\n",
       "    <tr>\n",
       "      <th>3</th>\n",
       "      <td>A1</td>\n",
       "      <td>1</td>\n",
       "      <td>2021-02-01</td>\n",
       "      <td>93.484534</td>\n",
       "      <td>0</td>\n",
       "      <td>0</td>\n",
       "      <td>0</td>\n",
       "      <td>0</td>\n",
       "      <td>1</td>\n",
       "    </tr>\n",
       "    <tr>\n",
       "      <th>4</th>\n",
       "      <td>A1</td>\n",
       "      <td>1</td>\n",
       "      <td>2021-01-01</td>\n",
       "      <td>91.816050</td>\n",
       "      <td>0</td>\n",
       "      <td>0</td>\n",
       "      <td>0</td>\n",
       "      <td>0</td>\n",
       "      <td>1</td>\n",
       "    </tr>\n",
       "  </tbody>\n",
       "</table>\n",
       "</div>"
      ],
      "text/plain": [
       "  Area_Code  Product_Size Month_of_Sourcing  Sourcing_Cost_mean  \\\n",
       "0        A1             1        2021-04-01           92.813339   \n",
       "1        A1             1        2020-08-01           94.795753   \n",
       "2        A1             1        2020-12-01          106.372132   \n",
       "3        A1             1        2021-02-01           93.484534   \n",
       "4        A1             1        2021-01-01           91.816050   \n",
       "\n",
       "   ProductType_NTM2  ProductType_NTM3  Manufacturer_X2  Manufacturer_X3  \\\n",
       "0                 0                 0                0                0   \n",
       "1                 0                 0                0                0   \n",
       "2                 0                 0                0                0   \n",
       "3                 0                 0                0                0   \n",
       "4                 0                 0                0                0   \n",
       "\n",
       "   Product_Type_Powder  \n",
       "0                    1  \n",
       "1                    1  \n",
       "2                    1  \n",
       "3                    1  \n",
       "4                    1  "
      ]
     },
     "execution_count": 257,
     "metadata": {},
     "output_type": "execute_result"
    }
   ],
   "source": [
    "df_encoded = pd.get_dummies(df_encoded, columns = ['ProductType', 'Manufacturer', 'Product_Type'], drop_first = True)\n",
    "df_encoded.head()"
   ]
  },
  {
   "cell_type": "code",
   "execution_count": 258,
   "metadata": {},
   "outputs": [],
   "source": [
    "encoder3 =ce.HashingEncoder(cols='Area_Code',n_components=15)\n",
    "df_encoded = encoder3.fit_transform(df_encoded)"
   ]
  },
  {
   "cell_type": "code",
   "execution_count": 118,
   "metadata": {},
   "outputs": [
    {
     "data": {
      "text/html": [
       "<div>\n",
       "<style scoped>\n",
       "    .dataframe tbody tr th:only-of-type {\n",
       "        vertical-align: middle;\n",
       "    }\n",
       "\n",
       "    .dataframe tbody tr th {\n",
       "        vertical-align: top;\n",
       "    }\n",
       "\n",
       "    .dataframe thead th {\n",
       "        text-align: right;\n",
       "    }\n",
       "</style>\n",
       "<table border=\"1\" class=\"dataframe\">\n",
       "  <thead>\n",
       "    <tr style=\"text-align: right;\">\n",
       "      <th></th>\n",
       "      <th>col_0</th>\n",
       "      <th>col_1</th>\n",
       "      <th>col_2</th>\n",
       "      <th>col_3</th>\n",
       "      <th>col_4</th>\n",
       "      <th>col_5</th>\n",
       "      <th>col_6</th>\n",
       "      <th>col_7</th>\n",
       "      <th>col_8</th>\n",
       "      <th>col_9</th>\n",
       "      <th>...</th>\n",
       "      <th>col_13</th>\n",
       "      <th>col_14</th>\n",
       "      <th>Product_Size</th>\n",
       "      <th>Month_of_Sourcing</th>\n",
       "      <th>Sourcing_Cost_mean</th>\n",
       "      <th>ProductType_NTM2</th>\n",
       "      <th>ProductType_NTM3</th>\n",
       "      <th>Manufacturer_X2</th>\n",
       "      <th>Manufacturer_X3</th>\n",
       "      <th>Product_Type_Powder</th>\n",
       "    </tr>\n",
       "  </thead>\n",
       "  <tbody>\n",
       "    <tr>\n",
       "      <th>0</th>\n",
       "      <td>1</td>\n",
       "      <td>0</td>\n",
       "      <td>0</td>\n",
       "      <td>0</td>\n",
       "      <td>0</td>\n",
       "      <td>0</td>\n",
       "      <td>0</td>\n",
       "      <td>0</td>\n",
       "      <td>0</td>\n",
       "      <td>0</td>\n",
       "      <td>...</td>\n",
       "      <td>0</td>\n",
       "      <td>0</td>\n",
       "      <td>1</td>\n",
       "      <td>2021-04-01</td>\n",
       "      <td>92.813339</td>\n",
       "      <td>0</td>\n",
       "      <td>0</td>\n",
       "      <td>0</td>\n",
       "      <td>0</td>\n",
       "      <td>1</td>\n",
       "    </tr>\n",
       "    <tr>\n",
       "      <th>1</th>\n",
       "      <td>1</td>\n",
       "      <td>0</td>\n",
       "      <td>0</td>\n",
       "      <td>0</td>\n",
       "      <td>0</td>\n",
       "      <td>0</td>\n",
       "      <td>0</td>\n",
       "      <td>0</td>\n",
       "      <td>0</td>\n",
       "      <td>0</td>\n",
       "      <td>...</td>\n",
       "      <td>0</td>\n",
       "      <td>0</td>\n",
       "      <td>1</td>\n",
       "      <td>2020-08-01</td>\n",
       "      <td>94.795753</td>\n",
       "      <td>0</td>\n",
       "      <td>0</td>\n",
       "      <td>0</td>\n",
       "      <td>0</td>\n",
       "      <td>1</td>\n",
       "    </tr>\n",
       "    <tr>\n",
       "      <th>2</th>\n",
       "      <td>1</td>\n",
       "      <td>0</td>\n",
       "      <td>0</td>\n",
       "      <td>0</td>\n",
       "      <td>0</td>\n",
       "      <td>0</td>\n",
       "      <td>0</td>\n",
       "      <td>0</td>\n",
       "      <td>0</td>\n",
       "      <td>0</td>\n",
       "      <td>...</td>\n",
       "      <td>0</td>\n",
       "      <td>0</td>\n",
       "      <td>1</td>\n",
       "      <td>2020-12-01</td>\n",
       "      <td>106.372132</td>\n",
       "      <td>0</td>\n",
       "      <td>0</td>\n",
       "      <td>0</td>\n",
       "      <td>0</td>\n",
       "      <td>1</td>\n",
       "    </tr>\n",
       "    <tr>\n",
       "      <th>3</th>\n",
       "      <td>1</td>\n",
       "      <td>0</td>\n",
       "      <td>0</td>\n",
       "      <td>0</td>\n",
       "      <td>0</td>\n",
       "      <td>0</td>\n",
       "      <td>0</td>\n",
       "      <td>0</td>\n",
       "      <td>0</td>\n",
       "      <td>0</td>\n",
       "      <td>...</td>\n",
       "      <td>0</td>\n",
       "      <td>0</td>\n",
       "      <td>1</td>\n",
       "      <td>2021-02-01</td>\n",
       "      <td>93.484534</td>\n",
       "      <td>0</td>\n",
       "      <td>0</td>\n",
       "      <td>0</td>\n",
       "      <td>0</td>\n",
       "      <td>1</td>\n",
       "    </tr>\n",
       "    <tr>\n",
       "      <th>4</th>\n",
       "      <td>1</td>\n",
       "      <td>0</td>\n",
       "      <td>0</td>\n",
       "      <td>0</td>\n",
       "      <td>0</td>\n",
       "      <td>0</td>\n",
       "      <td>0</td>\n",
       "      <td>0</td>\n",
       "      <td>0</td>\n",
       "      <td>0</td>\n",
       "      <td>...</td>\n",
       "      <td>0</td>\n",
       "      <td>0</td>\n",
       "      <td>1</td>\n",
       "      <td>2021-01-01</td>\n",
       "      <td>91.816050</td>\n",
       "      <td>0</td>\n",
       "      <td>0</td>\n",
       "      <td>0</td>\n",
       "      <td>0</td>\n",
       "      <td>1</td>\n",
       "    </tr>\n",
       "  </tbody>\n",
       "</table>\n",
       "<p>5 rows × 23 columns</p>\n",
       "</div>"
      ],
      "text/plain": [
       "   col_0  col_1  col_2  col_3  col_4  col_5  col_6  col_7  col_8  col_9  ...  \\\n",
       "0      1      0      0      0      0      0      0      0      0      0  ...   \n",
       "1      1      0      0      0      0      0      0      0      0      0  ...   \n",
       "2      1      0      0      0      0      0      0      0      0      0  ...   \n",
       "3      1      0      0      0      0      0      0      0      0      0  ...   \n",
       "4      1      0      0      0      0      0      0      0      0      0  ...   \n",
       "\n",
       "   col_13  col_14  Product_Size  Month_of_Sourcing  Sourcing_Cost_mean  \\\n",
       "0       0       0             1         2021-04-01           92.813339   \n",
       "1       0       0             1         2020-08-01           94.795753   \n",
       "2       0       0             1         2020-12-01          106.372132   \n",
       "3       0       0             1         2021-02-01           93.484534   \n",
       "4       0       0             1         2021-01-01           91.816050   \n",
       "\n",
       "   ProductType_NTM2 ProductType_NTM3  Manufacturer_X2  Manufacturer_X3  \\\n",
       "0                 0                0                0                0   \n",
       "1                 0                0                0                0   \n",
       "2                 0                0                0                0   \n",
       "3                 0                0                0                0   \n",
       "4                 0                0                0                0   \n",
       "\n",
       "   Product_Type_Powder  \n",
       "0                    1  \n",
       "1                    1  \n",
       "2                    1  \n",
       "3                    1  \n",
       "4                    1  \n",
       "\n",
       "[5 rows x 23 columns]"
      ]
     },
     "execution_count": 118,
     "metadata": {},
     "output_type": "execute_result"
    }
   ],
   "source": [
    "df_encoded.head()"
   ]
  },
  {
   "cell_type": "code",
   "execution_count": null,
   "metadata": {},
   "outputs": [],
   "source": []
  },
  {
   "cell_type": "code",
   "execution_count": null,
   "metadata": {},
   "outputs": [],
   "source": []
  },
  {
   "cell_type": "code",
   "execution_count": null,
   "metadata": {},
   "outputs": [],
   "source": []
  },
  {
   "cell_type": "code",
   "execution_count": null,
   "metadata": {},
   "outputs": [],
   "source": []
  },
  {
   "cell_type": "code",
   "execution_count": 82,
   "metadata": {},
   "outputs": [],
   "source": [
    "df_encoded['Month_of_Sourcing'] = df_encoded['Month_of_Sourcing'].dt.month "
   ]
  },
  {
   "cell_type": "code",
   "execution_count": 83,
   "metadata": {},
   "outputs": [],
   "source": [
    "x_train, x_test, y_train, y_test = train_test_split(df_encoded.drop(columns = ['Sourcing_Cost_mean']),\n",
    "                                                   df_encoded[['Sourcing_Cost_mean']], test_size = 0.3, \n",
    "                                                   shuffle = True, random_state = 70)"
   ]
  },
  {
   "cell_type": "code",
   "execution_count": 84,
   "metadata": {},
   "outputs": [],
   "source": [
    "model = XGBRegressor()\n",
    "model.fit(x_train, y_train)\n",
    "y_pred = model.predict(x_test)\n"
   ]
  },
  {
   "cell_type": "code",
   "execution_count": 85,
   "metadata": {},
   "outputs": [
    {
     "data": {
      "text/html": [
       "<div>\n",
       "<style scoped>\n",
       "    .dataframe tbody tr th:only-of-type {\n",
       "        vertical-align: middle;\n",
       "    }\n",
       "\n",
       "    .dataframe tbody tr th {\n",
       "        vertical-align: top;\n",
       "    }\n",
       "\n",
       "    .dataframe thead th {\n",
       "        text-align: right;\n",
       "    }\n",
       "</style>\n",
       "<table border=\"1\" class=\"dataframe\">\n",
       "  <thead>\n",
       "    <tr style=\"text-align: right;\">\n",
       "      <th></th>\n",
       "      <th>y_test</th>\n",
       "      <th>y_pred</th>\n",
       "    </tr>\n",
       "  </thead>\n",
       "  <tbody>\n",
       "    <tr>\n",
       "      <th>0</th>\n",
       "      <td>141.779010</td>\n",
       "      <td>141.334213</td>\n",
       "    </tr>\n",
       "    <tr>\n",
       "      <th>1</th>\n",
       "      <td>133.300000</td>\n",
       "      <td>132.893661</td>\n",
       "    </tr>\n",
       "    <tr>\n",
       "      <th>2</th>\n",
       "      <td>18.765257</td>\n",
       "      <td>56.195007</td>\n",
       "    </tr>\n",
       "    <tr>\n",
       "      <th>3</th>\n",
       "      <td>42.996422</td>\n",
       "      <td>69.586624</td>\n",
       "    </tr>\n",
       "    <tr>\n",
       "      <th>4</th>\n",
       "      <td>264.960000</td>\n",
       "      <td>79.615326</td>\n",
       "    </tr>\n",
       "  </tbody>\n",
       "</table>\n",
       "</div>"
      ],
      "text/plain": [
       "       y_test      y_pred\n",
       "0  141.779010  141.334213\n",
       "1  133.300000  132.893661\n",
       "2   18.765257   56.195007\n",
       "3   42.996422   69.586624\n",
       "4  264.960000   79.615326"
      ]
     },
     "execution_count": 85,
     "metadata": {},
     "output_type": "execute_result"
    }
   ],
   "source": [
    "df_final = pd.DataFrame()\n",
    "df_final['y_test']  = y_test['Sourcing_Cost_mean']\n",
    "df_final['y_pred'] = y_pred\n",
    "df_final.reset_index(inplace = True, drop = True)\n",
    "df_final.head()"
   ]
  },
  {
   "cell_type": "code",
   "execution_count": 86,
   "metadata": {},
   "outputs": [
    {
     "data": {
      "image/png": "[encoded data removed]",
      "text/plain": [
       "<Figure size 1440x576 with 1 Axes>"
      ]
     },
     "metadata": {
      "needs_background": "light"
     },
     "output_type": "display_data"
    }
   ],
   "source": [
    "df_final.plot(figsize = (20, 8))\n",
    "plt.show()"
   ]
  },
  {
   "cell_type": "markdown",
   "metadata": {},
   "source": [
    "### Testing Against Given TestData"
   ]
  },
  {
   "cell_type": "code",
   "execution_count": 87,
   "metadata": {},
   "outputs": [
    {
     "data": {
      "text/html": [
       "<div>\n",
       "<style scoped>\n",
       "    .dataframe tbody tr th:only-of-type {\n",
       "        vertical-align: middle;\n",
       "    }\n",
       "\n",
       "    .dataframe tbody tr th {\n",
       "        vertical-align: top;\n",
       "    }\n",
       "\n",
       "    .dataframe thead th {\n",
       "        text-align: right;\n",
       "    }\n",
       "</style>\n",
       "<table border=\"1\" class=\"dataframe\">\n",
       "  <thead>\n",
       "    <tr style=\"text-align: right;\">\n",
       "      <th></th>\n",
       "      <th>ProductType</th>\n",
       "      <th>Manufacturer</th>\n",
       "      <th>Area Code</th>\n",
       "      <th>Sourcing Channel</th>\n",
       "      <th>Product Size</th>\n",
       "      <th>Product Type</th>\n",
       "      <th>Month of Sourcing</th>\n",
       "      <th>Sourcing Cost</th>\n",
       "    </tr>\n",
       "  </thead>\n",
       "  <tbody>\n",
       "    <tr>\n",
       "      <th>0</th>\n",
       "      <td>NTM1</td>\n",
       "      <td>X1</td>\n",
       "      <td>A1</td>\n",
       "      <td>DIRECT</td>\n",
       "      <td>Small</td>\n",
       "      <td>Powder</td>\n",
       "      <td>Jun-21</td>\n",
       "      <td>103.68</td>\n",
       "    </tr>\n",
       "    <tr>\n",
       "      <th>1</th>\n",
       "      <td>NTM1</td>\n",
       "      <td>X1</td>\n",
       "      <td>A10</td>\n",
       "      <td>DIRECT</td>\n",
       "      <td>Large</td>\n",
       "      <td>Powder</td>\n",
       "      <td>Jun-21</td>\n",
       "      <td>155.75</td>\n",
       "    </tr>\n",
       "    <tr>\n",
       "      <th>2</th>\n",
       "      <td>NTM1</td>\n",
       "      <td>X1</td>\n",
       "      <td>A10</td>\n",
       "      <td>ECOM</td>\n",
       "      <td>Large</td>\n",
       "      <td>Powder</td>\n",
       "      <td>Jun-21</td>\n",
       "      <td>143.02</td>\n",
       "    </tr>\n",
       "    <tr>\n",
       "      <th>3</th>\n",
       "      <td>NTM1</td>\n",
       "      <td>X1</td>\n",
       "      <td>A11</td>\n",
       "      <td>DIRECT</td>\n",
       "      <td>Large</td>\n",
       "      <td>Powder</td>\n",
       "      <td>Jun-21</td>\n",
       "      <td>139.39</td>\n",
       "    </tr>\n",
       "    <tr>\n",
       "      <th>4</th>\n",
       "      <td>NTM1</td>\n",
       "      <td>X1</td>\n",
       "      <td>A2</td>\n",
       "      <td>DIRECT</td>\n",
       "      <td>Large</td>\n",
       "      <td>Powder</td>\n",
       "      <td>Jun-21</td>\n",
       "      <td>169.42</td>\n",
       "    </tr>\n",
       "  </tbody>\n",
       "</table>\n",
       "</div>"
      ],
      "text/plain": [
       "  ProductType Manufacturer Area Code Sourcing Channel Product Size  \\\n",
       "0        NTM1           X1        A1           DIRECT        Small   \n",
       "1        NTM1           X1       A10           DIRECT        Large   \n",
       "2        NTM1           X1       A10             ECOM        Large   \n",
       "3        NTM1           X1       A11           DIRECT        Large   \n",
       "4        NTM1           X1        A2           DIRECT        Large   \n",
       "\n",
       "  Product Type Month of Sourcing  Sourcing Cost  \n",
       "0       Powder            Jun-21         103.68  \n",
       "1       Powder            Jun-21         155.75  \n",
       "2       Powder            Jun-21         143.02  \n",
       "3       Powder            Jun-21         139.39  \n",
       "4       Powder            Jun-21         169.42  "
      ]
     },
     "execution_count": 87,
     "metadata": {},
     "output_type": "execute_result"
    }
   ],
   "source": [
    "df_test = pd.read_csv(\"../data/raw/DS_ML Coding Challenge Dataset - Test Dataset.csv\")\n",
    "df_processed = preprocess_data(df_test)\n",
    "df_processed.drop(columns = ['Sourcing_Channel'], inplace = True)\n"
   ]
  },
  {
   "cell_type": "code",
   "execution_count": 90,
   "metadata": {},
   "outputs": [
    {
     "data": {
      "text/html": [
       "<div>\n",
       "<style scoped>\n",
       "    .dataframe tbody tr th:only-of-type {\n",
       "        vertical-align: middle;\n",
       "    }\n",
       "\n",
       "    .dataframe tbody tr th {\n",
       "        vertical-align: top;\n",
       "    }\n",
       "\n",
       "    .dataframe thead th {\n",
       "        text-align: right;\n",
       "    }\n",
       "</style>\n",
       "<table border=\"1\" class=\"dataframe\">\n",
       "  <thead>\n",
       "    <tr style=\"text-align: right;\">\n",
       "      <th></th>\n",
       "      <th>ProductType</th>\n",
       "      <th>Manufacturer</th>\n",
       "      <th>Area_Code</th>\n",
       "      <th>Sourcing_Channel</th>\n",
       "      <th>Product_Size</th>\n",
       "      <th>Product_Type</th>\n",
       "      <th>Month_of_Sourcing</th>\n",
       "      <th>Sourcing_Cost_mean</th>\n",
       "    </tr>\n",
       "  </thead>\n",
       "  <tbody>\n",
       "    <tr>\n",
       "      <th>0</th>\n",
       "      <td>NTM1</td>\n",
       "      <td>X1</td>\n",
       "      <td>A1</td>\n",
       "      <td>DIRECT</td>\n",
       "      <td>Small</td>\n",
       "      <td>Powder</td>\n",
       "      <td>2021-06-01</td>\n",
       "      <td>103.68</td>\n",
       "    </tr>\n",
       "    <tr>\n",
       "      <th>1</th>\n",
       "      <td>NTM1</td>\n",
       "      <td>X1</td>\n",
       "      <td>A10</td>\n",
       "      <td>DIRECT</td>\n",
       "      <td>Large</td>\n",
       "      <td>Powder</td>\n",
       "      <td>2021-06-01</td>\n",
       "      <td>155.75</td>\n",
       "    </tr>\n",
       "    <tr>\n",
       "      <th>2</th>\n",
       "      <td>NTM1</td>\n",
       "      <td>X1</td>\n",
       "      <td>A10</td>\n",
       "      <td>ECOM</td>\n",
       "      <td>Large</td>\n",
       "      <td>Powder</td>\n",
       "      <td>2021-06-01</td>\n",
       "      <td>143.02</td>\n",
       "    </tr>\n",
       "    <tr>\n",
       "      <th>3</th>\n",
       "      <td>NTM1</td>\n",
       "      <td>X1</td>\n",
       "      <td>A11</td>\n",
       "      <td>DIRECT</td>\n",
       "      <td>Large</td>\n",
       "      <td>Powder</td>\n",
       "      <td>2021-06-01</td>\n",
       "      <td>139.39</td>\n",
       "    </tr>\n",
       "    <tr>\n",
       "      <th>4</th>\n",
       "      <td>NTM1</td>\n",
       "      <td>X1</td>\n",
       "      <td>A2</td>\n",
       "      <td>DIRECT</td>\n",
       "      <td>Large</td>\n",
       "      <td>Powder</td>\n",
       "      <td>2021-06-01</td>\n",
       "      <td>169.42</td>\n",
       "    </tr>\n",
       "  </tbody>\n",
       "</table>\n",
       "</div>"
      ],
      "text/plain": [
       "  ProductType Manufacturer Area_Code Sourcing_Channel Product_Size  \\\n",
       "0        NTM1           X1        A1           DIRECT        Small   \n",
       "1        NTM1           X1       A10           DIRECT        Large   \n",
       "2        NTM1           X1       A10             ECOM        Large   \n",
       "3        NTM1           X1       A11           DIRECT        Large   \n",
       "4        NTM1           X1        A2           DIRECT        Large   \n",
       "\n",
       "  Product_Type Month_of_Sourcing  Sourcing_Cost_mean  \n",
       "0       Powder        2021-06-01              103.68  \n",
       "1       Powder        2021-06-01              155.75  \n",
       "2       Powder        2021-06-01              143.02  \n",
       "3       Powder        2021-06-01              139.39  \n",
       "4       Powder        2021-06-01              169.42  "
      ]
     },
     "execution_count": 90,
     "metadata": {},
     "output_type": "execute_result"
    }
   ],
   "source": [
    "df_processed = preprocess_data(df_test)\n",
    "df_processed.head()"
   ]
  },
  {
   "cell_type": "code",
   "execution_count": 92,
   "metadata": {},
   "outputs": [],
   "source": [
    "df_processed.drop(columns = ['Sourcing_Channel'], inplace = True)"
   ]
  },
  {
   "cell_type": "code",
   "execution_count": 93,
   "metadata": {},
   "outputs": [],
   "source": [
    "df_encoded = encoder1.transform(df_processed)"
   ]
  },
  {
   "cell_type": "code",
   "execution_count": 95,
   "metadata": {},
   "outputs": [
    {
     "data": {
      "text/html": [
       "<div>\n",
       "<style scoped>\n",
       "    .dataframe tbody tr th:only-of-type {\n",
       "        vertical-align: middle;\n",
       "    }\n",
       "\n",
       "    .dataframe tbody tr th {\n",
       "        vertical-align: top;\n",
       "    }\n",
       "\n",
       "    .dataframe thead th {\n",
       "        text-align: right;\n",
       "    }\n",
       "</style>\n",
       "<table border=\"1\" class=\"dataframe\">\n",
       "  <thead>\n",
       "    <tr style=\"text-align: right;\">\n",
       "      <th></th>\n",
       "      <th>Area_Code</th>\n",
       "      <th>Product_Size</th>\n",
       "      <th>Month_of_Sourcing</th>\n",
       "      <th>Sourcing_Cost_mean</th>\n",
       "      <th>ProductType_NTM2</th>\n",
       "      <th>ProductType_NTM3</th>\n",
       "      <th>Manufacturer_X2</th>\n",
       "      <th>Manufacturer_X3</th>\n",
       "      <th>Product_Type_Powder</th>\n",
       "    </tr>\n",
       "  </thead>\n",
       "  <tbody>\n",
       "    <tr>\n",
       "      <th>0</th>\n",
       "      <td>A1</td>\n",
       "      <td>1</td>\n",
       "      <td>2021-06-01</td>\n",
       "      <td>103.68</td>\n",
       "      <td>0</td>\n",
       "      <td>0</td>\n",
       "      <td>0</td>\n",
       "      <td>0</td>\n",
       "      <td>1</td>\n",
       "    </tr>\n",
       "    <tr>\n",
       "      <th>1</th>\n",
       "      <td>A10</td>\n",
       "      <td>2</td>\n",
       "      <td>2021-06-01</td>\n",
       "      <td>155.75</td>\n",
       "      <td>0</td>\n",
       "      <td>0</td>\n",
       "      <td>0</td>\n",
       "      <td>0</td>\n",
       "      <td>1</td>\n",
       "    </tr>\n",
       "    <tr>\n",
       "      <th>2</th>\n",
       "      <td>A10</td>\n",
       "      <td>2</td>\n",
       "      <td>2021-06-01</td>\n",
       "      <td>143.02</td>\n",
       "      <td>0</td>\n",
       "      <td>0</td>\n",
       "      <td>0</td>\n",
       "      <td>0</td>\n",
       "      <td>1</td>\n",
       "    </tr>\n",
       "    <tr>\n",
       "      <th>3</th>\n",
       "      <td>A11</td>\n",
       "      <td>2</td>\n",
       "      <td>2021-06-01</td>\n",
       "      <td>139.39</td>\n",
       "      <td>0</td>\n",
       "      <td>0</td>\n",
       "      <td>0</td>\n",
       "      <td>0</td>\n",
       "      <td>1</td>\n",
       "    </tr>\n",
       "    <tr>\n",
       "      <th>4</th>\n",
       "      <td>A2</td>\n",
       "      <td>2</td>\n",
       "      <td>2021-06-01</td>\n",
       "      <td>169.42</td>\n",
       "      <td>0</td>\n",
       "      <td>0</td>\n",
       "      <td>0</td>\n",
       "      <td>0</td>\n",
       "      <td>1</td>\n",
       "    </tr>\n",
       "  </tbody>\n",
       "</table>\n",
       "</div>"
      ],
      "text/plain": [
       "  Area_Code  Product_Size Month_of_Sourcing  Sourcing_Cost_mean  \\\n",
       "0        A1             1        2021-06-01              103.68   \n",
       "1       A10             2        2021-06-01              155.75   \n",
       "2       A10             2        2021-06-01              143.02   \n",
       "3       A11             2        2021-06-01              139.39   \n",
       "4        A2             2        2021-06-01              169.42   \n",
       "\n",
       "   ProductType_NTM2  ProductType_NTM3  Manufacturer_X2  Manufacturer_X3  \\\n",
       "0                 0                 0                0                0   \n",
       "1                 0                 0                0                0   \n",
       "2                 0                 0                0                0   \n",
       "3                 0                 0                0                0   \n",
       "4                 0                 0                0                0   \n",
       "\n",
       "   Product_Type_Powder  \n",
       "0                    1  \n",
       "1                    1  \n",
       "2                    1  \n",
       "3                    1  \n",
       "4                    1  "
      ]
     },
     "execution_count": 95,
     "metadata": {},
     "output_type": "execute_result"
    }
   ],
   "source": [
    "df_encoded = pd.get_dummies(df_encoded, columns = ['ProductType', 'Manufacturer', 'Product_Type'], drop_first = True)\n",
    "df_encoded.head()"
   ]
  },
  {
   "cell_type": "code",
   "execution_count": 96,
   "metadata": {},
   "outputs": [],
   "source": [
    "df_encoded = encoder3.transform(df_encoded)"
   ]
  },
  {
   "cell_type": "code",
   "execution_count": 97,
   "metadata": {},
   "outputs": [],
   "source": [
    "df_encoded['Month_of_Sourcing'] = df_encoded['Month_of_Sourcing'].dt.month "
   ]
  },
  {
   "cell_type": "code",
   "execution_count": 98,
   "metadata": {},
   "outputs": [],
   "source": [
    "X_t = df_encoded.drop(columns = ['Sourcing_Cost_mean'])"
   ]
  },
  {
   "cell_type": "code",
   "execution_count": 99,
   "metadata": {},
   "outputs": [],
   "source": [
    "y_pred = model.predict(X_t)"
   ]
  },
  {
   "cell_type": "code",
   "execution_count": 100,
   "metadata": {},
   "outputs": [
    {
     "data": {
      "text/html": [
       "<div>\n",
       "<style scoped>\n",
       "    .dataframe tbody tr th:only-of-type {\n",
       "        vertical-align: middle;\n",
       "    }\n",
       "\n",
       "    .dataframe tbody tr th {\n",
       "        vertical-align: top;\n",
       "    }\n",
       "\n",
       "    .dataframe thead th {\n",
       "        text-align: right;\n",
       "    }\n",
       "</style>\n",
       "<table border=\"1\" class=\"dataframe\">\n",
       "  <thead>\n",
       "    <tr style=\"text-align: right;\">\n",
       "      <th></th>\n",
       "      <th>y_test</th>\n",
       "      <th>y_pred</th>\n",
       "    </tr>\n",
       "  </thead>\n",
       "  <tbody>\n",
       "    <tr>\n",
       "      <th>0</th>\n",
       "      <td>103.68</td>\n",
       "      <td>104.392143</td>\n",
       "    </tr>\n",
       "    <tr>\n",
       "      <th>1</th>\n",
       "      <td>155.75</td>\n",
       "      <td>133.029755</td>\n",
       "    </tr>\n",
       "    <tr>\n",
       "      <th>2</th>\n",
       "      <td>143.02</td>\n",
       "      <td>133.029755</td>\n",
       "    </tr>\n",
       "    <tr>\n",
       "      <th>3</th>\n",
       "      <td>139.39</td>\n",
       "      <td>134.452621</td>\n",
       "    </tr>\n",
       "    <tr>\n",
       "      <th>4</th>\n",
       "      <td>169.42</td>\n",
       "      <td>143.691132</td>\n",
       "    </tr>\n",
       "  </tbody>\n",
       "</table>\n",
       "</div>"
      ],
      "text/plain": [
       "   y_test      y_pred\n",
       "0  103.68  104.392143\n",
       "1  155.75  133.029755\n",
       "2  143.02  133.029755\n",
       "3  139.39  134.452621\n",
       "4  169.42  143.691132"
      ]
     },
     "execution_count": 100,
     "metadata": {},
     "output_type": "execute_result"
    }
   ],
   "source": [
    "df_final = pd.DataFrame()\n",
    "df_final['y_test']  = df_processed['Sourcing_Cost_mean']\n",
    "df_final['y_pred'] = y_pred\n",
    "df_final.reset_index(inplace = True, drop = True)\n",
    "df_final.head()"
   ]
  },
  {
   "cell_type": "code",
   "execution_count": 101,
   "metadata": {},
   "outputs": [
    {
     "data": {
      "image/png": "[encoded data removed]",
      "text/plain": [
       "<Figure size 1440x576 with 1 Axes>"
      ]
     },
     "metadata": {
      "needs_background": "light"
     },
     "output_type": "display_data"
    }
   ],
   "source": [
    "df_final.plot(figsize = (20, 8))\n",
    "plt.show()"
   ]
  },
  {
   "cell_type": "code",
   "execution_count": null,
   "metadata": {},
   "outputs": [],
   "source": []
  },
  {
   "cell_type": "code",
   "execution_count": null,
   "metadata": {},
   "outputs": [],
   "source": []
  },
  {
   "cell_type": "code",
   "execution_count": null,
   "metadata": {},
   "outputs": [],
   "source": []
  },
  {
   "cell_type": "code",
   "execution_count": null,
   "metadata": {},
   "outputs": [],
   "source": []
  },
  {
   "cell_type": "markdown",
   "metadata": {},
   "source": [
    "### Lag Based Approach"
   ]
  },
  {
   "cell_type": "code",
   "execution_count": 400,
   "metadata": {},
   "outputs": [
    {
     "data": {
      "text/html": [
       "<div>\n",
       "<style scoped>\n",
       "    .dataframe tbody tr th:only-of-type {\n",
       "        vertical-align: middle;\n",
       "    }\n",
       "\n",
       "    .dataframe tbody tr th {\n",
       "        vertical-align: top;\n",
       "    }\n",
       "\n",
       "    .dataframe thead th {\n",
       "        text-align: right;\n",
       "    }\n",
       "</style>\n",
       "<table border=\"1\" class=\"dataframe\">\n",
       "  <thead>\n",
       "    <tr style=\"text-align: right;\">\n",
       "      <th></th>\n",
       "      <th>ProductType</th>\n",
       "      <th>Manufacturer</th>\n",
       "      <th>Area_Code</th>\n",
       "      <th>Sourcing_Channel</th>\n",
       "      <th>Product_Size</th>\n",
       "      <th>Product_Type</th>\n",
       "      <th>Month_of_Sourcing</th>\n",
       "      <th>Sourcing_Cost_mean</th>\n",
       "    </tr>\n",
       "  </thead>\n",
       "  <tbody>\n",
       "    <tr>\n",
       "      <th>0</th>\n",
       "      <td>NTM1</td>\n",
       "      <td>X1</td>\n",
       "      <td>A1</td>\n",
       "      <td>DIRECT</td>\n",
       "      <td>Small</td>\n",
       "      <td>Powder</td>\n",
       "      <td>2021-04-01</td>\n",
       "      <td>93.266935</td>\n",
       "    </tr>\n",
       "    <tr>\n",
       "      <th>1</th>\n",
       "      <td>NTM1</td>\n",
       "      <td>X1</td>\n",
       "      <td>A1</td>\n",
       "      <td>DIRECT</td>\n",
       "      <td>Small</td>\n",
       "      <td>Powder</td>\n",
       "      <td>2020-08-01</td>\n",
       "      <td>99.687042</td>\n",
       "    </tr>\n",
       "    <tr>\n",
       "      <th>2</th>\n",
       "      <td>NTM1</td>\n",
       "      <td>X1</td>\n",
       "      <td>A1</td>\n",
       "      <td>DIRECT</td>\n",
       "      <td>Small</td>\n",
       "      <td>Powder</td>\n",
       "      <td>2020-12-01</td>\n",
       "      <td>109.121740</td>\n",
       "    </tr>\n",
       "    <tr>\n",
       "      <th>3</th>\n",
       "      <td>NTM1</td>\n",
       "      <td>X1</td>\n",
       "      <td>A1</td>\n",
       "      <td>DIRECT</td>\n",
       "      <td>Small</td>\n",
       "      <td>Powder</td>\n",
       "      <td>2021-02-01</td>\n",
       "      <td>98.773374</td>\n",
       "    </tr>\n",
       "    <tr>\n",
       "      <th>4</th>\n",
       "      <td>NTM1</td>\n",
       "      <td>X1</td>\n",
       "      <td>A1</td>\n",
       "      <td>DIRECT</td>\n",
       "      <td>Small</td>\n",
       "      <td>Powder</td>\n",
       "      <td>2021-01-01</td>\n",
       "      <td>98.160315</td>\n",
       "    </tr>\n",
       "  </tbody>\n",
       "</table>\n",
       "</div>"
      ],
      "text/plain": [
       "  ProductType Manufacturer Area_Code Sourcing_Channel Product_Size  \\\n",
       "0        NTM1           X1        A1           DIRECT        Small   \n",
       "1        NTM1           X1        A1           DIRECT        Small   \n",
       "2        NTM1           X1        A1           DIRECT        Small   \n",
       "3        NTM1           X1        A1           DIRECT        Small   \n",
       "4        NTM1           X1        A1           DIRECT        Small   \n",
       "\n",
       "  Product_Type Month_of_Sourcing  Sourcing_Cost_mean  \n",
       "0       Powder        2021-04-01           93.266935  \n",
       "1       Powder        2020-08-01           99.687042  \n",
       "2       Powder        2020-12-01          109.121740  \n",
       "3       Powder        2021-02-01           98.773374  \n",
       "4       Powder        2021-01-01           98.160315  "
      ]
     },
     "execution_count": 400,
     "metadata": {},
     "output_type": "execute_result"
    }
   ],
   "source": [
    "df_ = df_processed.copy()\n",
    "df_.head()"
   ]
  },
  {
   "cell_type": "code",
   "execution_count": 401,
   "metadata": {},
   "outputs": [
    {
     "data": {
      "text/plain": [
       "(1020, 8)"
      ]
     },
     "execution_count": 401,
     "metadata": {},
     "output_type": "execute_result"
    }
   ],
   "source": [
    "df_.shape"
   ]
  },
  {
   "cell_type": "code",
   "execution_count": 402,
   "metadata": {},
   "outputs": [],
   "source": [
    "lag1_vals = df_.groupby(by = df_.columns.tolist()[:-2], as_index = False)['Sourcing_Cost_mean'].shift(1)\n",
    "lag2_vals = df_.groupby(by = df_.columns.tolist()[:-2], as_index = False)['Sourcing_Cost_mean'].shift(2)\n",
    "lag3_vals = df_.groupby(by = df_.columns.tolist()[:-2], as_index = False)['Sourcing_Cost_mean'].shift(3)"
   ]
  },
  {
   "cell_type": "code",
   "execution_count": 403,
   "metadata": {},
   "outputs": [],
   "source": [
    "df_['Sourcing_Cost_lag1'] = lag1_vals['Sourcing_Cost_mean'].values\n",
    "df_['Sourcing_Cost_lag2'] = lag2_vals['Sourcing_Cost_mean'].values\n",
    "df_['Sourcing_Cost_lag3'] = lag3_vals['Sourcing_Cost_mean'].values"
   ]
  },
  {
   "cell_type": "code",
   "execution_count": 404,
   "metadata": {},
   "outputs": [],
   "source": [
    "df_.dropna(inplace = True,axis = 'rows')"
   ]
  },
  {
   "cell_type": "code",
   "execution_count": 405,
   "metadata": {},
   "outputs": [],
   "source": [
    "df_.drop(columns = ['Month_of_Sourcing'], inplace = True)"
   ]
  },
  {
   "cell_type": "code",
   "execution_count": 412,
   "metadata": {},
   "outputs": [],
   "source": [
    "df_lag_encoded = pd.get_dummies(df_, columns = ['ProductType', 'Manufacturer', 'Product_Type', 'Sourcing_Channel'], drop_first = True)"
   ]
  },
  {
   "cell_type": "code",
   "execution_count": null,
   "metadata": {},
   "outputs": [],
   "source": []
  },
  {
   "cell_type": "code",
   "execution_count": 413,
   "metadata": {},
   "outputs": [],
   "source": [
    "x_train, x_test, y_train, y_test = train_test_split(df_lag_encoded.drop(columns = ['Sourcing_Cost_mean']),\n",
    "                                                   df_lag_encoded[['Sourcing_Cost_mean']], test_size = 0.3, \n",
    "                                                   shuffle = True, random_state = 10)"
   ]
  },
  {
   "cell_type": "code",
   "execution_count": null,
   "metadata": {},
   "outputs": [],
   "source": []
  },
  {
   "cell_type": "code",
   "execution_count": 414,
   "metadata": {},
   "outputs": [],
   "source": [
    "x_train_encoded = encoder1.fit_transform(x_train)\n",
    "x_train_encoded = encoder3.fit_transform(x_train_encoded)"
   ]
  },
  {
   "cell_type": "code",
   "execution_count": 415,
   "metadata": {},
   "outputs": [],
   "source": [
    "x_test_encoded = encoder1.transform(x_test)\n",
    "x_test_encoded = encoder3.transform(x_test_encoded)"
   ]
  },
  {
   "cell_type": "code",
   "execution_count": 416,
   "metadata": {},
   "outputs": [],
   "source": [
    "model = XGBRegressor()"
   ]
  },
  {
   "cell_type": "code",
   "execution_count": 417,
   "metadata": {},
   "outputs": [
    {
     "data": {
      "text/plain": [
       "XGBRegressor(base_score=0.5, booster='gbtree', colsample_bylevel=1,\n",
       "             colsample_bynode=1, colsample_bytree=1, gamma=0, gpu_id=-1,\n",
       "             importance_type='gain', interaction_constraints='',\n",
       "             learning_rate=0.300000012, max_delta_step=0, max_depth=6,\n",
       "             min_child_weight=1, missing=nan, monotone_constraints='()',\n",
       "             n_estimators=100, n_jobs=4, num_parallel_tree=1, random_state=0,\n",
       "             reg_alpha=0, reg_lambda=1, scale_pos_weight=1, subsample=1,\n",
       "             tree_method='exact', validate_parameters=1, verbosity=None)"
      ]
     },
     "execution_count": 417,
     "metadata": {},
     "output_type": "execute_result"
    }
   ],
   "source": [
    "model.fit(x_train_encoded, y_train)"
   ]
  },
  {
   "cell_type": "code",
   "execution_count": 418,
   "metadata": {},
   "outputs": [],
   "source": [
    "y_pred_encoded = model.predict(x_test_encoded)"
   ]
  },
  {
   "cell_type": "code",
   "execution_count": 419,
   "metadata": {},
   "outputs": [
    {
     "data": {
      "text/html": [
       "<div>\n",
       "<style scoped>\n",
       "    .dataframe tbody tr th:only-of-type {\n",
       "        vertical-align: middle;\n",
       "    }\n",
       "\n",
       "    .dataframe tbody tr th {\n",
       "        vertical-align: top;\n",
       "    }\n",
       "\n",
       "    .dataframe thead th {\n",
       "        text-align: right;\n",
       "    }\n",
       "</style>\n",
       "<table border=\"1\" class=\"dataframe\">\n",
       "  <thead>\n",
       "    <tr style=\"text-align: right;\">\n",
       "      <th></th>\n",
       "      <th>y_test</th>\n",
       "      <th>y_pred</th>\n",
       "    </tr>\n",
       "  </thead>\n",
       "  <tbody>\n",
       "    <tr>\n",
       "      <th>0</th>\n",
       "      <td>12.385302</td>\n",
       "      <td>52.500942</td>\n",
       "    </tr>\n",
       "    <tr>\n",
       "      <th>1</th>\n",
       "      <td>106.269060</td>\n",
       "      <td>110.469856</td>\n",
       "    </tr>\n",
       "    <tr>\n",
       "      <th>2</th>\n",
       "      <td>35.007922</td>\n",
       "      <td>23.720280</td>\n",
       "    </tr>\n",
       "    <tr>\n",
       "      <th>3</th>\n",
       "      <td>114.930839</td>\n",
       "      <td>143.240479</td>\n",
       "    </tr>\n",
       "    <tr>\n",
       "      <th>4</th>\n",
       "      <td>209.744281</td>\n",
       "      <td>191.222000</td>\n",
       "    </tr>\n",
       "  </tbody>\n",
       "</table>\n",
       "</div>"
      ],
      "text/plain": [
       "       y_test      y_pred\n",
       "0   12.385302   52.500942\n",
       "1  106.269060  110.469856\n",
       "2   35.007922   23.720280\n",
       "3  114.930839  143.240479\n",
       "4  209.744281  191.222000"
      ]
     },
     "execution_count": 419,
     "metadata": {},
     "output_type": "execute_result"
    }
   ],
   "source": [
    "df_final = pd.DataFrame()\n",
    "df_final['y_test']  = y_test['Sourcing_Cost_mean']\n",
    "df_final['y_pred'] = y_pred_encoded\n",
    "df_final.reset_index(inplace = True, drop = True)\n",
    "df_final.head()"
   ]
  },
  {
   "cell_type": "code",
   "execution_count": 420,
   "metadata": {},
   "outputs": [
    {
     "data": {
      "image/png": "[encoded data removed]",
      "text/plain": [
       "<Figure size 1440x576 with 1 Axes>"
      ]
     },
     "metadata": {},
     "output_type": "display_data"
    }
   ],
   "source": [
    "df_final.plot(figsize = (20, 8))\n",
    "plt.show()"
   ]
  },
  {
   "cell_type": "code",
   "execution_count": 421,
   "metadata": {},
   "outputs": [
    {
     "name": "stdout",
     "output_type": "stream",
     "text": [
      "Mean Absolute Error: 18.276622375141393\n",
      "Roto Mean Squared Error: 47.491669014304115\n"
     ]
    }
   ],
   "source": [
    "print(f\"Mean Absolute Error: {mean_absolute_error(df_final['y_test'], df_final['y_pred'])}\")\n",
    "print(f\"Roto Mean Squared Error: {np.sqrt(mean_squared_error(df_final['y_test'], df_final['y_pred']))}\")"
   ]
  },
  {
   "cell_type": "markdown",
   "metadata": {},
   "source": [
    "### Train Model on Entire Data"
   ]
  },
  {
   "cell_type": "code",
   "execution_count": null,
   "metadata": {},
   "outputs": [],
   "source": []
  },
  {
   "cell_type": "code",
   "execution_count": null,
   "metadata": {},
   "outputs": [],
   "source": []
  },
  {
   "cell_type": "markdown",
   "metadata": {},
   "source": [
    "## Testing Against Given Test Data"
   ]
  },
  {
   "cell_type": "code",
   "execution_count": 422,
   "metadata": {},
   "outputs": [
    {
     "data": {
      "text/html": [
       "<div>\n",
       "<style scoped>\n",
       "    .dataframe tbody tr th:only-of-type {\n",
       "        vertical-align: middle;\n",
       "    }\n",
       "\n",
       "    .dataframe tbody tr th {\n",
       "        vertical-align: top;\n",
       "    }\n",
       "\n",
       "    .dataframe thead th {\n",
       "        text-align: right;\n",
       "    }\n",
       "</style>\n",
       "<table border=\"1\" class=\"dataframe\">\n",
       "  <thead>\n",
       "    <tr style=\"text-align: right;\">\n",
       "      <th></th>\n",
       "      <th>ProductType</th>\n",
       "      <th>Manufacturer</th>\n",
       "      <th>Area_Code</th>\n",
       "      <th>Sourcing_Channel</th>\n",
       "      <th>Product_Size</th>\n",
       "      <th>Product_Type</th>\n",
       "      <th>Month_of_Sourcing</th>\n",
       "      <th>Sourcing_Cost_mean</th>\n",
       "    </tr>\n",
       "  </thead>\n",
       "  <tbody>\n",
       "    <tr>\n",
       "      <th>0</th>\n",
       "      <td>NTM1</td>\n",
       "      <td>X1</td>\n",
       "      <td>A1</td>\n",
       "      <td>DIRECT</td>\n",
       "      <td>Small</td>\n",
       "      <td>Powder</td>\n",
       "      <td>2021-06-01</td>\n",
       "      <td>103.68</td>\n",
       "    </tr>\n",
       "    <tr>\n",
       "      <th>1</th>\n",
       "      <td>NTM1</td>\n",
       "      <td>X1</td>\n",
       "      <td>A10</td>\n",
       "      <td>DIRECT</td>\n",
       "      <td>Large</td>\n",
       "      <td>Powder</td>\n",
       "      <td>2021-06-01</td>\n",
       "      <td>155.75</td>\n",
       "    </tr>\n",
       "    <tr>\n",
       "      <th>2</th>\n",
       "      <td>NTM1</td>\n",
       "      <td>X1</td>\n",
       "      <td>A10</td>\n",
       "      <td>ECOM</td>\n",
       "      <td>Large</td>\n",
       "      <td>Powder</td>\n",
       "      <td>2021-06-01</td>\n",
       "      <td>143.02</td>\n",
       "    </tr>\n",
       "    <tr>\n",
       "      <th>3</th>\n",
       "      <td>NTM1</td>\n",
       "      <td>X1</td>\n",
       "      <td>A11</td>\n",
       "      <td>DIRECT</td>\n",
       "      <td>Large</td>\n",
       "      <td>Powder</td>\n",
       "      <td>2021-06-01</td>\n",
       "      <td>139.39</td>\n",
       "    </tr>\n",
       "    <tr>\n",
       "      <th>4</th>\n",
       "      <td>NTM1</td>\n",
       "      <td>X1</td>\n",
       "      <td>A2</td>\n",
       "      <td>DIRECT</td>\n",
       "      <td>Large</td>\n",
       "      <td>Powder</td>\n",
       "      <td>2021-06-01</td>\n",
       "      <td>169.42</td>\n",
       "    </tr>\n",
       "  </tbody>\n",
       "</table>\n",
       "</div>"
      ],
      "text/plain": [
       "  ProductType Manufacturer Area_Code Sourcing_Channel Product_Size  \\\n",
       "0        NTM1           X1        A1           DIRECT        Small   \n",
       "1        NTM1           X1       A10           DIRECT        Large   \n",
       "2        NTM1           X1       A10             ECOM        Large   \n",
       "3        NTM1           X1       A11           DIRECT        Large   \n",
       "4        NTM1           X1        A2           DIRECT        Large   \n",
       "\n",
       "  Product_Type Month_of_Sourcing  Sourcing_Cost_mean  \n",
       "0       Powder        2021-06-01              103.68  \n",
       "1       Powder        2021-06-01              155.75  \n",
       "2       Powder        2021-06-01              143.02  \n",
       "3       Powder        2021-06-01              139.39  \n",
       "4       Powder        2021-06-01              169.42  "
      ]
     },
     "execution_count": 422,
     "metadata": {},
     "output_type": "execute_result"
    }
   ],
   "source": [
    "df_test = pd.read_csv(\"../data/raw/DS_ML Coding Challenge Dataset - Test Dataset.csv\")\n",
    "df_test_processed = preprocess_data(df_test)\n",
    "# df_test_processed.drop(columns = ['Sourcing_Channel'], inplace = True)\n",
    "df_test_processed.head()"
   ]
  },
  {
   "cell_type": "code",
   "execution_count": 423,
   "metadata": {},
   "outputs": [
    {
     "data": {
      "text/plain": [
       "(96, 8)"
      ]
     },
     "execution_count": 423,
     "metadata": {},
     "output_type": "execute_result"
    }
   ],
   "source": [
    "df_test_processed.shape"
   ]
  },
  {
   "cell_type": "code",
   "execution_count": 424,
   "metadata": {},
   "outputs": [],
   "source": [
    "X_test_processed = df_test_processed.drop(['Sourcing_Cost_mean'], axis = 1)\n",
    "y_test_final = df_test_processed['Sourcing_Cost_mean']"
   ]
  },
  {
   "cell_type": "code",
   "execution_count": 425,
   "metadata": {},
   "outputs": [],
   "source": [
    "X_test_processed['Sourcing_Cost_mean'] = 0"
   ]
  },
  {
   "cell_type": "code",
   "execution_count": 426,
   "metadata": {},
   "outputs": [],
   "source": [
    "# df_processed.drop(columns = ['Sourcing_Channel'], inplace = True)"
   ]
  },
  {
   "cell_type": "code",
   "execution_count": 427,
   "metadata": {},
   "outputs": [
    {
     "data": {
      "text/html": [
       "<div>\n",
       "<style scoped>\n",
       "    .dataframe tbody tr th:only-of-type {\n",
       "        vertical-align: middle;\n",
       "    }\n",
       "\n",
       "    .dataframe tbody tr th {\n",
       "        vertical-align: top;\n",
       "    }\n",
       "\n",
       "    .dataframe thead th {\n",
       "        text-align: right;\n",
       "    }\n",
       "</style>\n",
       "<table border=\"1\" class=\"dataframe\">\n",
       "  <thead>\n",
       "    <tr style=\"text-align: right;\">\n",
       "      <th></th>\n",
       "      <th>ProductType</th>\n",
       "      <th>Manufacturer</th>\n",
       "      <th>Area_Code</th>\n",
       "      <th>Sourcing_Channel</th>\n",
       "      <th>Product_Size</th>\n",
       "      <th>Product_Type</th>\n",
       "      <th>Month_of_Sourcing</th>\n",
       "      <th>Sourcing_Cost_mean</th>\n",
       "    </tr>\n",
       "  </thead>\n",
       "  <tbody>\n",
       "    <tr>\n",
       "      <th>0</th>\n",
       "      <td>NTM1</td>\n",
       "      <td>X1</td>\n",
       "      <td>A1</td>\n",
       "      <td>DIRECT</td>\n",
       "      <td>Small</td>\n",
       "      <td>Powder</td>\n",
       "      <td>2021-04-01</td>\n",
       "      <td>93.266935</td>\n",
       "    </tr>\n",
       "    <tr>\n",
       "      <th>1</th>\n",
       "      <td>NTM1</td>\n",
       "      <td>X1</td>\n",
       "      <td>A1</td>\n",
       "      <td>DIRECT</td>\n",
       "      <td>Small</td>\n",
       "      <td>Powder</td>\n",
       "      <td>2020-08-01</td>\n",
       "      <td>99.687042</td>\n",
       "    </tr>\n",
       "    <tr>\n",
       "      <th>2</th>\n",
       "      <td>NTM1</td>\n",
       "      <td>X1</td>\n",
       "      <td>A1</td>\n",
       "      <td>DIRECT</td>\n",
       "      <td>Small</td>\n",
       "      <td>Powder</td>\n",
       "      <td>2020-12-01</td>\n",
       "      <td>109.121740</td>\n",
       "    </tr>\n",
       "    <tr>\n",
       "      <th>3</th>\n",
       "      <td>NTM1</td>\n",
       "      <td>X1</td>\n",
       "      <td>A1</td>\n",
       "      <td>DIRECT</td>\n",
       "      <td>Small</td>\n",
       "      <td>Powder</td>\n",
       "      <td>2021-02-01</td>\n",
       "      <td>98.773374</td>\n",
       "    </tr>\n",
       "    <tr>\n",
       "      <th>4</th>\n",
       "      <td>NTM1</td>\n",
       "      <td>X1</td>\n",
       "      <td>A1</td>\n",
       "      <td>DIRECT</td>\n",
       "      <td>Small</td>\n",
       "      <td>Powder</td>\n",
       "      <td>2021-01-01</td>\n",
       "      <td>98.160315</td>\n",
       "    </tr>\n",
       "  </tbody>\n",
       "</table>\n",
       "</div>"
      ],
      "text/plain": [
       "  ProductType Manufacturer Area_Code Sourcing_Channel Product_Size  \\\n",
       "0        NTM1           X1        A1           DIRECT        Small   \n",
       "1        NTM1           X1        A1           DIRECT        Small   \n",
       "2        NTM1           X1        A1           DIRECT        Small   \n",
       "3        NTM1           X1        A1           DIRECT        Small   \n",
       "4        NTM1           X1        A1           DIRECT        Small   \n",
       "\n",
       "  Product_Type Month_of_Sourcing  Sourcing_Cost_mean  \n",
       "0       Powder        2021-04-01           93.266935  \n",
       "1       Powder        2020-08-01           99.687042  \n",
       "2       Powder        2020-12-01          109.121740  \n",
       "3       Powder        2021-02-01           98.773374  \n",
       "4       Powder        2021-01-01           98.160315  "
      ]
     },
     "execution_count": 427,
     "metadata": {},
     "output_type": "execute_result"
    }
   ],
   "source": [
    "df_concat = pd.concat([df_processed, X_test_processed], axis = 'rows', ignore_index = True)\n",
    "df_concat.head()"
   ]
  },
  {
   "cell_type": "code",
   "execution_count": 428,
   "metadata": {},
   "outputs": [
    {
     "data": {
      "text/html": [
       "<div>\n",
       "<style scoped>\n",
       "    .dataframe tbody tr th:only-of-type {\n",
       "        vertical-align: middle;\n",
       "    }\n",
       "\n",
       "    .dataframe tbody tr th {\n",
       "        vertical-align: top;\n",
       "    }\n",
       "\n",
       "    .dataframe thead th {\n",
       "        text-align: right;\n",
       "    }\n",
       "</style>\n",
       "<table border=\"1\" class=\"dataframe\">\n",
       "  <thead>\n",
       "    <tr style=\"text-align: right;\">\n",
       "      <th></th>\n",
       "      <th>ProductType</th>\n",
       "      <th>Manufacturer</th>\n",
       "      <th>Area_Code</th>\n",
       "      <th>Sourcing_Channel</th>\n",
       "      <th>Product_Size</th>\n",
       "      <th>Product_Type</th>\n",
       "      <th>Month_of_Sourcing</th>\n",
       "      <th>Sourcing_Cost_mean</th>\n",
       "    </tr>\n",
       "  </thead>\n",
       "  <tbody>\n",
       "    <tr>\n",
       "      <th>0</th>\n",
       "      <td>NTM1</td>\n",
       "      <td>X1</td>\n",
       "      <td>A1</td>\n",
       "      <td>DIRECT</td>\n",
       "      <td>Small</td>\n",
       "      <td>Powder</td>\n",
       "      <td>2021-04-01</td>\n",
       "      <td>93.266935</td>\n",
       "    </tr>\n",
       "    <tr>\n",
       "      <th>1</th>\n",
       "      <td>NTM1</td>\n",
       "      <td>X1</td>\n",
       "      <td>A1</td>\n",
       "      <td>DIRECT</td>\n",
       "      <td>Small</td>\n",
       "      <td>Powder</td>\n",
       "      <td>2020-08-01</td>\n",
       "      <td>99.687042</td>\n",
       "    </tr>\n",
       "    <tr>\n",
       "      <th>2</th>\n",
       "      <td>NTM1</td>\n",
       "      <td>X1</td>\n",
       "      <td>A1</td>\n",
       "      <td>DIRECT</td>\n",
       "      <td>Small</td>\n",
       "      <td>Powder</td>\n",
       "      <td>2020-12-01</td>\n",
       "      <td>109.121740</td>\n",
       "    </tr>\n",
       "    <tr>\n",
       "      <th>3</th>\n",
       "      <td>NTM1</td>\n",
       "      <td>X1</td>\n",
       "      <td>A1</td>\n",
       "      <td>DIRECT</td>\n",
       "      <td>Small</td>\n",
       "      <td>Powder</td>\n",
       "      <td>2021-02-01</td>\n",
       "      <td>98.773374</td>\n",
       "    </tr>\n",
       "    <tr>\n",
       "      <th>4</th>\n",
       "      <td>NTM1</td>\n",
       "      <td>X1</td>\n",
       "      <td>A1</td>\n",
       "      <td>DIRECT</td>\n",
       "      <td>Small</td>\n",
       "      <td>Powder</td>\n",
       "      <td>2021-01-01</td>\n",
       "      <td>98.160315</td>\n",
       "    </tr>\n",
       "    <tr>\n",
       "      <th>...</th>\n",
       "      <td>...</td>\n",
       "      <td>...</td>\n",
       "      <td>...</td>\n",
       "      <td>...</td>\n",
       "      <td>...</td>\n",
       "      <td>...</td>\n",
       "      <td>...</td>\n",
       "      <td>...</td>\n",
       "    </tr>\n",
       "    <tr>\n",
       "      <th>1015</th>\n",
       "      <td>NTM3</td>\n",
       "      <td>X3</td>\n",
       "      <td>A22</td>\n",
       "      <td>RETAIL</td>\n",
       "      <td>Large</td>\n",
       "      <td>Powder</td>\n",
       "      <td>2021-03-01</td>\n",
       "      <td>51.526898</td>\n",
       "    </tr>\n",
       "    <tr>\n",
       "      <th>1016</th>\n",
       "      <td>NTM3</td>\n",
       "      <td>X3</td>\n",
       "      <td>A22</td>\n",
       "      <td>RETAIL</td>\n",
       "      <td>Large</td>\n",
       "      <td>Powder</td>\n",
       "      <td>2021-05-01</td>\n",
       "      <td>50.464128</td>\n",
       "    </tr>\n",
       "    <tr>\n",
       "      <th>1017</th>\n",
       "      <td>NTM3</td>\n",
       "      <td>X3</td>\n",
       "      <td>A22</td>\n",
       "      <td>RETAIL</td>\n",
       "      <td>Large</td>\n",
       "      <td>Powder</td>\n",
       "      <td>2020-11-01</td>\n",
       "      <td>54.019449</td>\n",
       "    </tr>\n",
       "    <tr>\n",
       "      <th>1018</th>\n",
       "      <td>NTM3</td>\n",
       "      <td>X3</td>\n",
       "      <td>A22</td>\n",
       "      <td>RETAIL</td>\n",
       "      <td>Large</td>\n",
       "      <td>Powder</td>\n",
       "      <td>2020-10-01</td>\n",
       "      <td>44.609049</td>\n",
       "    </tr>\n",
       "    <tr>\n",
       "      <th>1019</th>\n",
       "      <td>NTM3</td>\n",
       "      <td>X3</td>\n",
       "      <td>A22</td>\n",
       "      <td>RETAIL</td>\n",
       "      <td>Large</td>\n",
       "      <td>Powder</td>\n",
       "      <td>2020-09-01</td>\n",
       "      <td>50.606837</td>\n",
       "    </tr>\n",
       "  </tbody>\n",
       "</table>\n",
       "<p>1020 rows × 8 columns</p>\n",
       "</div>"
      ],
      "text/plain": [
       "     ProductType Manufacturer Area_Code Sourcing_Channel Product_Size  \\\n",
       "0           NTM1           X1        A1           DIRECT        Small   \n",
       "1           NTM1           X1        A1           DIRECT        Small   \n",
       "2           NTM1           X1        A1           DIRECT        Small   \n",
       "3           NTM1           X1        A1           DIRECT        Small   \n",
       "4           NTM1           X1        A1           DIRECT        Small   \n",
       "...          ...          ...       ...              ...          ...   \n",
       "1015        NTM3           X3       A22           RETAIL        Large   \n",
       "1016        NTM3           X3       A22           RETAIL        Large   \n",
       "1017        NTM3           X3       A22           RETAIL        Large   \n",
       "1018        NTM3           X3       A22           RETAIL        Large   \n",
       "1019        NTM3           X3       A22           RETAIL        Large   \n",
       "\n",
       "     Product_Type Month_of_Sourcing  Sourcing_Cost_mean  \n",
       "0          Powder        2021-04-01           93.266935  \n",
       "1          Powder        2020-08-01           99.687042  \n",
       "2          Powder        2020-12-01          109.121740  \n",
       "3          Powder        2021-02-01           98.773374  \n",
       "4          Powder        2021-01-01           98.160315  \n",
       "...           ...               ...                 ...  \n",
       "1015       Powder        2021-03-01           51.526898  \n",
       "1016       Powder        2021-05-01           50.464128  \n",
       "1017       Powder        2020-11-01           54.019449  \n",
       "1018       Powder        2020-10-01           44.609049  \n",
       "1019       Powder        2020-09-01           50.606837  \n",
       "\n",
       "[1020 rows x 8 columns]"
      ]
     },
     "execution_count": 428,
     "metadata": {},
     "output_type": "execute_result"
    }
   ],
   "source": [
    "df_processed"
   ]
  },
  {
   "cell_type": "code",
   "execution_count": 211,
   "metadata": {},
   "outputs": [
    {
     "data": {
      "text/html": [
       "<div>\n",
       "<style scoped>\n",
       "    .dataframe tbody tr th:only-of-type {\n",
       "        vertical-align: middle;\n",
       "    }\n",
       "\n",
       "    .dataframe tbody tr th {\n",
       "        vertical-align: top;\n",
       "    }\n",
       "\n",
       "    .dataframe thead tr th {\n",
       "        text-align: left;\n",
       "    }\n",
       "</style>\n",
       "<table border=\"1\" class=\"dataframe\">\n",
       "  <thead>\n",
       "    <tr>\n",
       "      <th></th>\n",
       "      <th>ProductType</th>\n",
       "      <th>Manufacturer</th>\n",
       "      <th>Area_Code</th>\n",
       "      <th>Product_Size</th>\n",
       "      <th>Product_Type</th>\n",
       "      <th>Month_of_Sourcing</th>\n",
       "      <th>Sourcing_Cost_mean</th>\n",
       "    </tr>\n",
       "    <tr>\n",
       "      <th></th>\n",
       "      <th></th>\n",
       "      <th></th>\n",
       "      <th></th>\n",
       "      <th></th>\n",
       "      <th></th>\n",
       "      <th></th>\n",
       "      <th>count</th>\n",
       "    </tr>\n",
       "  </thead>\n",
       "  <tbody>\n",
       "    <tr>\n",
       "      <th>0</th>\n",
       "      <td>NTM1</td>\n",
       "      <td>X1</td>\n",
       "      <td>A1</td>\n",
       "      <td>Small</td>\n",
       "      <td>Powder</td>\n",
       "      <td>2020-07-01</td>\n",
       "      <td>1</td>\n",
       "    </tr>\n",
       "    <tr>\n",
       "      <th>1</th>\n",
       "      <td>NTM1</td>\n",
       "      <td>X1</td>\n",
       "      <td>A1</td>\n",
       "      <td>Small</td>\n",
       "      <td>Powder</td>\n",
       "      <td>2020-08-01</td>\n",
       "      <td>1</td>\n",
       "    </tr>\n",
       "    <tr>\n",
       "      <th>2</th>\n",
       "      <td>NTM1</td>\n",
       "      <td>X1</td>\n",
       "      <td>A1</td>\n",
       "      <td>Small</td>\n",
       "      <td>Powder</td>\n",
       "      <td>2020-09-01</td>\n",
       "      <td>1</td>\n",
       "    </tr>\n",
       "    <tr>\n",
       "      <th>3</th>\n",
       "      <td>NTM1</td>\n",
       "      <td>X1</td>\n",
       "      <td>A1</td>\n",
       "      <td>Small</td>\n",
       "      <td>Powder</td>\n",
       "      <td>2020-10-01</td>\n",
       "      <td>1</td>\n",
       "    </tr>\n",
       "    <tr>\n",
       "      <th>4</th>\n",
       "      <td>NTM1</td>\n",
       "      <td>X1</td>\n",
       "      <td>A1</td>\n",
       "      <td>Small</td>\n",
       "      <td>Powder</td>\n",
       "      <td>2020-11-01</td>\n",
       "      <td>1</td>\n",
       "    </tr>\n",
       "    <tr>\n",
       "      <th>...</th>\n",
       "      <td>...</td>\n",
       "      <td>...</td>\n",
       "      <td>...</td>\n",
       "      <td>...</td>\n",
       "      <td>...</td>\n",
       "      <td>...</td>\n",
       "      <td>...</td>\n",
       "    </tr>\n",
       "    <tr>\n",
       "      <th>1067</th>\n",
       "      <td>NTM3</td>\n",
       "      <td>X3</td>\n",
       "      <td>A22</td>\n",
       "      <td>Large</td>\n",
       "      <td>Powder</td>\n",
       "      <td>2021-02-01</td>\n",
       "      <td>1</td>\n",
       "    </tr>\n",
       "    <tr>\n",
       "      <th>1068</th>\n",
       "      <td>NTM3</td>\n",
       "      <td>X3</td>\n",
       "      <td>A22</td>\n",
       "      <td>Large</td>\n",
       "      <td>Powder</td>\n",
       "      <td>2021-03-01</td>\n",
       "      <td>1</td>\n",
       "    </tr>\n",
       "    <tr>\n",
       "      <th>1069</th>\n",
       "      <td>NTM3</td>\n",
       "      <td>X3</td>\n",
       "      <td>A22</td>\n",
       "      <td>Large</td>\n",
       "      <td>Powder</td>\n",
       "      <td>2021-04-01</td>\n",
       "      <td>1</td>\n",
       "    </tr>\n",
       "    <tr>\n",
       "      <th>1070</th>\n",
       "      <td>NTM3</td>\n",
       "      <td>X3</td>\n",
       "      <td>A22</td>\n",
       "      <td>Large</td>\n",
       "      <td>Powder</td>\n",
       "      <td>2021-05-01</td>\n",
       "      <td>1</td>\n",
       "    </tr>\n",
       "    <tr>\n",
       "      <th>1071</th>\n",
       "      <td>NTM3</td>\n",
       "      <td>X3</td>\n",
       "      <td>A22</td>\n",
       "      <td>Large</td>\n",
       "      <td>Powder</td>\n",
       "      <td>2021-06-01</td>\n",
       "      <td>1</td>\n",
       "    </tr>\n",
       "  </tbody>\n",
       "</table>\n",
       "<p>1072 rows × 7 columns</p>\n",
       "</div>"
      ],
      "text/plain": [
       "     ProductType Manufacturer Area_Code Product_Size Product_Type  \\\n",
       "                                                                    \n",
       "0           NTM1           X1        A1        Small       Powder   \n",
       "1           NTM1           X1        A1        Small       Powder   \n",
       "2           NTM1           X1        A1        Small       Powder   \n",
       "3           NTM1           X1        A1        Small       Powder   \n",
       "4           NTM1           X1        A1        Small       Powder   \n",
       "...          ...          ...       ...          ...          ...   \n",
       "1067        NTM3           X3       A22        Large       Powder   \n",
       "1068        NTM3           X3       A22        Large       Powder   \n",
       "1069        NTM3           X3       A22        Large       Powder   \n",
       "1070        NTM3           X3       A22        Large       Powder   \n",
       "1071        NTM3           X3       A22        Large       Powder   \n",
       "\n",
       "     Month_of_Sourcing Sourcing_Cost_mean  \n",
       "                                    count  \n",
       "0           2020-07-01                  1  \n",
       "1           2020-08-01                  1  \n",
       "2           2020-09-01                  1  \n",
       "3           2020-10-01                  1  \n",
       "4           2020-11-01                  1  \n",
       "...                ...                ...  \n",
       "1067        2021-02-01                  1  \n",
       "1068        2021-03-01                  1  \n",
       "1069        2021-04-01                  1  \n",
       "1070        2021-05-01                  1  \n",
       "1071        2021-06-01                  1  \n",
       "\n",
       "[1072 rows x 7 columns]"
      ]
     },
     "execution_count": 211,
     "metadata": {},
     "output_type": "execute_result"
    }
   ],
   "source": [
    "df_concat.groupby(df_concat.columns.tolist()[:-1], as_index = False).agg({'Sourcing_Cost_mean': ['count']})"
   ]
  },
  {
   "cell_type": "code",
   "execution_count": 429,
   "metadata": {},
   "outputs": [],
   "source": [
    "df_test_grouped = df_concat.groupby(df_concat.columns.tolist()[:-1], as_index = False)['Sourcing_Cost_mean'].mean()"
   ]
  },
  {
   "cell_type": "code",
   "execution_count": 430,
   "metadata": {},
   "outputs": [
    {
     "data": {
      "text/plain": [
       "(96, 8)"
      ]
     },
     "execution_count": 430,
     "metadata": {},
     "output_type": "execute_result"
    }
   ],
   "source": [
    "X_test_processed.shape"
   ]
  },
  {
   "cell_type": "code",
   "execution_count": 431,
   "metadata": {},
   "outputs": [
    {
     "data": {
      "text/plain": [
       "(1116, 8)"
      ]
     },
     "execution_count": 431,
     "metadata": {},
     "output_type": "execute_result"
    }
   ],
   "source": [
    "df_test_grouped.shape"
   ]
  },
  {
   "cell_type": "code",
   "execution_count": 432,
   "metadata": {},
   "outputs": [
    {
     "data": {
      "text/plain": [
       "1100"
      ]
     },
     "execution_count": 432,
     "metadata": {},
     "output_type": "execute_result"
    }
   ],
   "source": [
    "1007+93"
   ]
  },
  {
   "cell_type": "code",
   "execution_count": 433,
   "metadata": {},
   "outputs": [],
   "source": [
    "lag1_vals = df_test_grouped.groupby(by = df_test_grouped.columns.tolist()[:-2], as_index = False)['Sourcing_Cost_mean'].shift(1)\n",
    "lag2_vals = df_test_grouped.groupby(by = df_test_grouped.columns.tolist()[:-2], as_index = False)['Sourcing_Cost_mean'].shift(2)\n",
    "lag3_vals = df_test_grouped.groupby(by = df_test_grouped.columns.tolist()[:-2], as_index = False)['Sourcing_Cost_mean'].shift(3)"
   ]
  },
  {
   "cell_type": "code",
   "execution_count": 434,
   "metadata": {},
   "outputs": [],
   "source": [
    "df_test_grouped['Sourcing_Cost_lag1'] = lag1_vals['Sourcing_Cost_mean'].values\n",
    "df_test_grouped['Sourcing_Cost_lag2'] = lag2_vals['Sourcing_Cost_mean'].values\n",
    "df_test_grouped['Sourcing_Cost_lag3'] = lag3_vals['Sourcing_Cost_mean'].values"
   ]
  },
  {
   "cell_type": "code",
   "execution_count": 435,
   "metadata": {},
   "outputs": [],
   "source": [
    "X_test_lag = df_test_grouped[df_test_grouped['Month_of_Sourcing'] == '2021-06-01'].drop(['Sourcing_Cost_mean'], axis = 1)"
   ]
  },
  {
   "cell_type": "code",
   "execution_count": 436,
   "metadata": {},
   "outputs": [
    {
     "data": {
      "text/plain": [
       "(96, 10)"
      ]
     },
     "execution_count": 436,
     "metadata": {},
     "output_type": "execute_result"
    }
   ],
   "source": [
    "X_test_lag.reset_index(inplace = True, drop = True)\n",
    "X_test_lag.shape"
   ]
  },
  {
   "cell_type": "code",
   "execution_count": 437,
   "metadata": {},
   "outputs": [],
   "source": [
    "X_test_lag.drop(['Month_of_Sourcing', 'Sourcing_Channel'], 1, inplace = True)"
   ]
  },
  {
   "cell_type": "code",
   "execution_count": 438,
   "metadata": {},
   "outputs": [],
   "source": [
    "X_test_lag_encoded = pd.get_dummies(X_test_lag, columns = ['ProductType', 'Manufacturer', 'Product_Type'], drop_first = True)"
   ]
  },
  {
   "cell_type": "code",
   "execution_count": 440,
   "metadata": {},
   "outputs": [
    {
     "name": "stderr",
     "output_type": "stream",
     "text": [
      "C:\\Users\\ndh00560\\AppData\\Local\\Continuum\\anaconda3\\envs\\neuralprophet\\lib\\site-packages\\category_encoders\\utils.py:21: FutureWarning:\n",
      "\n",
      "is_categorical is deprecated and will be removed in a future version.  Use is_categorical_dtype instead\n",
      "\n"
     ]
    }
   ],
   "source": [
    "X_test_lag_encoded = encoder1.transform(X_test_lag_encoded)\n",
    "X_test_lag_encoded = encoder3.transform(X_test_lag_encoded)"
   ]
  },
  {
   "cell_type": "code",
   "execution_count": 441,
   "metadata": {},
   "outputs": [
    {
     "ename": "ValueError",
     "evalue": "feature_names mismatch: ['col_0', 'col_1', 'col_2', 'col_3', 'col_4', 'col_5', 'col_6', 'col_7', 'col_8', 'col_9', 'col_10', 'col_11', 'col_12', 'col_13', 'col_14', 'Product_Size', 'Sourcing_Cost_lag1', 'Sourcing_Cost_lag2', 'Sourcing_Cost_lag3', 'ProductType_NTM2', 'ProductType_NTM3', 'Manufacturer_X2', 'Manufacturer_X3', 'Product_Type_Powder', 'Sourcing_Channel_ECOM', 'Sourcing_Channel_RETAIL', 'Sourcing_Channel_WHOLESALE'] ['col_0', 'col_1', 'col_2', 'col_3', 'col_4', 'col_5', 'col_6', 'col_7', 'col_8', 'col_9', 'col_10', 'col_11', 'col_12', 'col_13', 'col_14', 'Product_Size', 'Sourcing_Cost_lag1', 'Sourcing_Cost_lag2', 'Sourcing_Cost_lag3', 'ProductType_NTM2', 'ProductType_NTM3', 'Manufacturer_X2', 'Manufacturer_X3', 'Product_Type_Powder']\nexpected Sourcing_Channel_RETAIL, Sourcing_Channel_ECOM, Sourcing_Channel_WHOLESALE in input data",
     "output_type": "error",
     "traceback": [
      "\u001b[1;31m---------------------------------------------------------------------------\u001b[0m",
      "\u001b[1;31mValueError\u001b[0m                                Traceback (most recent call last)",
      "\u001b[1;32m<ipython-input-441-f8f21aa273f0>\u001b[0m in \u001b[0;36m<module>\u001b[1;34m\u001b[0m\n\u001b[1;32m----> 1\u001b[1;33m \u001b[0my_pred_final\u001b[0m \u001b[1;33m=\u001b[0m \u001b[0mmodel\u001b[0m\u001b[1;33m.\u001b[0m\u001b[0mpredict\u001b[0m\u001b[1;33m(\u001b[0m\u001b[0mX_test_lag_encoded\u001b[0m\u001b[1;33m)\u001b[0m\u001b[1;33m\u001b[0m\u001b[1;33m\u001b[0m\u001b[0m\n\u001b[0m",
      "\u001b[1;32m~\\AppData\\Roaming\\Python\\Python36\\site-packages\\xgboost\\sklearn.py\u001b[0m in \u001b[0;36mpredict\u001b[1;34m(self, data, output_margin, ntree_limit, validate_features, base_margin)\u001b[0m\n\u001b[0;32m    652\u001b[0m                                           \u001b[0moutput_margin\u001b[0m\u001b[1;33m=\u001b[0m\u001b[0moutput_margin\u001b[0m\u001b[1;33m,\u001b[0m\u001b[1;33m\u001b[0m\u001b[1;33m\u001b[0m\u001b[0m\n\u001b[0;32m    653\u001b[0m                                           \u001b[0mntree_limit\u001b[0m\u001b[1;33m=\u001b[0m\u001b[0mntree_limit\u001b[0m\u001b[1;33m,\u001b[0m\u001b[1;33m\u001b[0m\u001b[1;33m\u001b[0m\u001b[0m\n\u001b[1;32m--> 654\u001b[1;33m                                           validate_features=validate_features)\n\u001b[0m\u001b[0;32m    655\u001b[0m \u001b[1;33m\u001b[0m\u001b[0m\n\u001b[0;32m    656\u001b[0m     \u001b[1;32mdef\u001b[0m \u001b[0mapply\u001b[0m\u001b[1;33m(\u001b[0m\u001b[0mself\u001b[0m\u001b[1;33m,\u001b[0m \u001b[0mX\u001b[0m\u001b[1;33m,\u001b[0m \u001b[0mntree_limit\u001b[0m\u001b[1;33m=\u001b[0m\u001b[1;36m0\u001b[0m\u001b[1;33m)\u001b[0m\u001b[1;33m:\u001b[0m\u001b[1;33m\u001b[0m\u001b[1;33m\u001b[0m\u001b[0m\n",
      "\u001b[1;32m~\\AppData\\Roaming\\Python\\Python36\\site-packages\\xgboost\\core.py\u001b[0m in \u001b[0;36mpredict\u001b[1;34m(self, data, output_margin, ntree_limit, pred_leaf, pred_contribs, approx_contribs, pred_interactions, validate_features, training)\u001b[0m\n\u001b[0;32m   1483\u001b[0m \u001b[1;33m\u001b[0m\u001b[0m\n\u001b[0;32m   1484\u001b[0m         \u001b[1;32mif\u001b[0m \u001b[0mvalidate_features\u001b[0m\u001b[1;33m:\u001b[0m\u001b[1;33m\u001b[0m\u001b[1;33m\u001b[0m\u001b[0m\n\u001b[1;32m-> 1485\u001b[1;33m             \u001b[0mself\u001b[0m\u001b[1;33m.\u001b[0m\u001b[0m_validate_features\u001b[0m\u001b[1;33m(\u001b[0m\u001b[0mdata\u001b[0m\u001b[1;33m)\u001b[0m\u001b[1;33m\u001b[0m\u001b[1;33m\u001b[0m\u001b[0m\n\u001b[0m\u001b[0;32m   1486\u001b[0m \u001b[1;33m\u001b[0m\u001b[0m\n\u001b[0;32m   1487\u001b[0m         \u001b[0mlength\u001b[0m \u001b[1;33m=\u001b[0m \u001b[0mc_bst_ulong\u001b[0m\u001b[1;33m(\u001b[0m\u001b[1;33m)\u001b[0m\u001b[1;33m\u001b[0m\u001b[1;33m\u001b[0m\u001b[0m\n",
      "\u001b[1;32m~\\AppData\\Roaming\\Python\\Python36\\site-packages\\xgboost\\core.py\u001b[0m in \u001b[0;36m_validate_features\u001b[1;34m(self, data)\u001b[0m\n\u001b[0;32m   2059\u001b[0m \u001b[1;33m\u001b[0m\u001b[0m\n\u001b[0;32m   2060\u001b[0m                 raise ValueError(msg.format(self.feature_names,\n\u001b[1;32m-> 2061\u001b[1;33m                                             data.feature_names))\n\u001b[0m\u001b[0;32m   2062\u001b[0m \u001b[1;33m\u001b[0m\u001b[0m\n\u001b[0;32m   2063\u001b[0m     def get_split_value_histogram(self, feature, fmap='', bins=None,\n",
      "\u001b[1;31mValueError\u001b[0m: feature_names mismatch: ['col_0', 'col_1', 'col_2', 'col_3', 'col_4', 'col_5', 'col_6', 'col_7', 'col_8', 'col_9', 'col_10', 'col_11', 'col_12', 'col_13', 'col_14', 'Product_Size', 'Sourcing_Cost_lag1', 'Sourcing_Cost_lag2', 'Sourcing_Cost_lag3', 'ProductType_NTM2', 'ProductType_NTM3', 'Manufacturer_X2', 'Manufacturer_X3', 'Product_Type_Powder', 'Sourcing_Channel_ECOM', 'Sourcing_Channel_RETAIL', 'Sourcing_Channel_WHOLESALE'] ['col_0', 'col_1', 'col_2', 'col_3', 'col_4', 'col_5', 'col_6', 'col_7', 'col_8', 'col_9', 'col_10', 'col_11', 'col_12', 'col_13', 'col_14', 'Product_Size', 'Sourcing_Cost_lag1', 'Sourcing_Cost_lag2', 'Sourcing_Cost_lag3', 'ProductType_NTM2', 'ProductType_NTM3', 'Manufacturer_X2', 'Manufacturer_X3', 'Product_Type_Powder']\nexpected Sourcing_Channel_RETAIL, Sourcing_Channel_ECOM, Sourcing_Channel_WHOLESALE in input data"
     ]
    }
   ],
   "source": [
    "y_pred_final = model.predict(X_test_lag_encoded)"
   ]
  },
  {
   "cell_type": "code",
   "execution_count": null,
   "metadata": {},
   "outputs": [],
   "source": [
    "df_final = pd.DataFrame()\n",
    "df_final['y_test']  = y_test_final\n",
    "df_final['y_pred'] = y_pred_final\n",
    "df_final.reset_index(inplace = True, drop = True)\n",
    "df_final.head()"
   ]
  },
  {
   "cell_type": "code",
   "execution_count": null,
   "metadata": {},
   "outputs": [],
   "source": [
    "df_final.plot(figsize = (20, 8))\n",
    "plt.show()"
   ]
  },
  {
   "cell_type": "code",
   "execution_count": 242,
   "metadata": {},
   "outputs": [],
   "source": [
    "from yellowbrick.regressor import residuals_plot\n",
    "from yellowbrick.regressor import prediction_error"
   ]
  },
  {
   "cell_type": "code",
   "execution_count": 249,
   "metadata": {},
   "outputs": [
    {
     "name": "stdout",
     "output_type": "stream",
     "text": [
      "\n",
      "Prediction Error Plot\n"
     ]
    },
    {
     "data": {
      "image/png": "[encoded data removed]",
      "text/plain": [
       "<Figure size 576x396 with 1 Axes>"
      ]
     },
     "metadata": {},
     "output_type": "display_data"
    },
    {
     "name": "stderr",
     "output_type": "stream",
     "text": [
      "C:\\Users\\ndh00560\\AppData\\Local\\Continuum\\anaconda3\\envs\\neuralprophet\\lib\\site-packages\\sklearn\\base.py:213: FutureWarning: From version 0.24, get_params will raise an AttributeError if a parameter cannot be retrieved as an instance attribute. Previously it would return None.\n",
      "  FutureWarning)\n"
     ]
    },
    {
     "name": "stdout",
     "output_type": "stream",
     "text": [
      "PredictionError(ax=<AxesSubplot:title={'center':'Prediction Error for XGBRegressor'}, xlabel='$y$', ylabel='$\\\\hat{y}$'>,\n",
      "                model=None)\n",
      "\n",
      "Residuals Plot\n"
     ]
    },
    {
     "data": {
      "image/png": "[encoded data removed]",
      "text/plain": [
       "<Figure size 576x396 with 2 Axes>"
      ]
     },
     "metadata": {},
     "output_type": "display_data"
    },
    {
     "name": "stdout",
     "output_type": "stream",
     "text": [
      "ResidualsPlot(ax=<AxesSubplot:title={'center':'Residuals for XGBRegressor Model'}, xlabel='Predicted Value', ylabel='Residuals'>,\n",
      "              line_color=None, model=None, test_alpha=None, test_color=None,\n",
      "              train_alpha=None, train_color=None)\n"
     ]
    },
    {
     "name": "stderr",
     "output_type": "stream",
     "text": [
      "C:\\Users\\ndh00560\\AppData\\Local\\Continuum\\anaconda3\\envs\\neuralprophet\\lib\\site-packages\\sklearn\\base.py:213: FutureWarning: From version 0.24, get_params will raise an AttributeError if a parameter cannot be retrieved as an instance attribute. Previously it would return None.\n",
      "  FutureWarning)\n"
     ]
    }
   ],
   "source": [
    "# Making the Prediction Error Plot\n",
    "print(\"\\nPrediction Error Plot\")\n",
    "print(prediction_error(model, X_test_lag_encoded, y_test_final))\n",
    "\n",
    "# Making the Residuals Plot\n",
    "print(\"\\nResiduals Plot\")\n",
    "print(residuals_plot(model, X_test_lag_encoded, y_test_final))"
   ]
  },
  {
   "cell_type": "code",
   "execution_count": null,
   "metadata": {},
   "outputs": [],
   "source": []
  },
  {
   "cell_type": "code",
   "execution_count": null,
   "metadata": {},
   "outputs": [],
   "source": []
  },
  {
   "cell_type": "code",
   "execution_count": 234,
   "metadata": {},
   "outputs": [
    {
     "name": "stdout",
     "output_type": "stream",
     "text": [
      "Mean Absolute Error: 19.112148706118266\n",
      "Roto Mean Squared Error: 34.13677984586774\n"
     ]
    }
   ],
   "source": [
    "print(f\"Mean Absolute Error: {mean_absolute_error(df_final['y_test'], df_final['y_pred'])}\")\n",
    "print(f\"Roto Mean Squared Error: {np.sqrt(mean_squared_error(df_final['y_test'], df_final['y_pred']))}\")"
   ]
  },
  {
   "cell_type": "code",
   "execution_count": 240,
   "metadata": {},
   "outputs": [
    {
     "data": {
      "text/plain": [
       "<Figure size 1080x432 with 0 Axes>"
      ]
     },
     "metadata": {},
     "output_type": "display_data"
    },
    {
     "data": {
      "image/png": "[encoded data removed]",
      "text/plain": [
       "<Figure size 432x288 with 1 Axes>"
      ]
     },
     "metadata": {
      "needs_background": "light"
     },
     "output_type": "display_data"
    }
   ],
   "source": [
    "plt.figure(figsize = (15, 6))\n",
    "ax = xgb.plot_importance(model, max_num_features = 10, importance_type = 'weight')\n",
    "plt.show()"
   ]
  },
  {
   "cell_type": "markdown",
   "metadata": {},
   "source": [
    "## Fine Tuning"
   ]
  },
  {
   "cell_type": "markdown",
   "metadata": {},
   "source": [
    "For Fine Tuning, we will be using the entire training data"
   ]
  },
  {
   "cell_type": "code",
   "execution_count": 352,
   "metadata": {},
   "outputs": [
    {
     "name": "stderr",
     "output_type": "stream",
     "text": [
      "C:\\Users\\ndh00560\\AppData\\Local\\Continuum\\anaconda3\\envs\\neuralprophet\\lib\\site-packages\\category_encoders\\utils.py:21: FutureWarning:\n",
      "\n",
      "is_categorical is deprecated and will be removed in a future version.  Use is_categorical_dtype instead\n",
      "\n"
     ]
    }
   ],
   "source": [
    "df_lag_encoded = encoder1.fit_transform(df_lag_encoded)\n",
    "df_lag_encoded = encoder3.fit_transform(df_lag_encoded)"
   ]
  },
  {
   "cell_type": "code",
   "execution_count": 353,
   "metadata": {},
   "outputs": [],
   "source": [
    "X = df_lag_encoded.drop(['Sourcing_Cost_mean'], 1)\n",
    "y = df_lag_encoded['Sourcing_Cost_mean']"
   ]
  },
  {
   "cell_type": "code",
   "execution_count": null,
   "metadata": {},
   "outputs": [],
   "source": []
  },
  {
   "cell_type": "code",
   "execution_count": null,
   "metadata": {},
   "outputs": [],
   "source": []
  },
  {
   "cell_type": "code",
   "execution_count": 355,
   "metadata": {},
   "outputs": [],
   "source": [
    "def objective(\n",
    "    trial,\n",
    "    X,\n",
    "    y,\n",
    "    random_state=22,\n",
    "    n_splits=3,\n",
    "    n_repeats=2,\n",
    "    n_jobs=1,\n",
    "    early_stopping_rounds=20,\n",
    "):\n",
    "    # XGBoost parameters\n",
    "    params = {\n",
    "        \"verbosity\": 0,  # 0 (silent) - 3 (debug)\n",
    "        \"objective\": \"reg:squarederror\",\n",
    "        \"n_estimators\" : trial.suggest_int('n_estimators', 50, 1000),\n",
    "        \"max_depth\": trial.suggest_int(\"max_depth\", 2, 12),\n",
    "        \"learning_rate\": trial.suggest_loguniform(\"learning_rate\", 0.005, 0.05),\n",
    "        \"colsample_bytree\": trial.suggest_loguniform(\"colsample_bytree\", 0.2, 0.6),\n",
    "        \"subsample\": trial.suggest_loguniform(\"subsample\", 0.4, 0.8),\n",
    "        \"alpha\": trial.suggest_loguniform(\"alpha\", 0.01, 10.0),\n",
    "        \"lambda\": trial.suggest_loguniform(\"lambda\", 1e-8, 10.0),\n",
    "        \"gamma\": trial.suggest_loguniform(\"lambda\", 1e-8, 10.0),\n",
    "        \"min_child_weight\": trial.suggest_loguniform(\"min_child_weight\", 10, 1000),\n",
    "        \"seed\": random_state,\n",
    "        \"n_jobs\": n_jobs,\n",
    "    }\n",
    "\n",
    "    model = XGBRegressor(**params)\n",
    "    pruning_callback = XGBoostPruningCallback(trial, \"validation_0-rmse\")\n",
    "    rkf = RepeatedKFold(\n",
    "        n_splits=n_splits, n_repeats=n_repeats, random_state=random_state\n",
    "    )\n",
    "    X_values = X\n",
    "    y_values = y\n",
    "    return cross_val_score(model, X_values, y_values, cv=5).mean()"
   ]
  },
  {
   "cell_type": "code",
   "execution_count": 356,
   "metadata": {},
   "outputs": [],
   "source": [
    "from sklearn.model_selection import cross_val_score"
   ]
  },
  {
   "cell_type": "code",
   "execution_count": null,
   "metadata": {},
   "outputs": [],
   "source": []
  },
  {
   "cell_type": "code",
   "execution_count": 357,
   "metadata": {},
   "outputs": [],
   "source": [
    "FS = (14, 6)  # figure size\n",
    "RS = 124  # random state\n",
    "N_JOBS = 8  # number of parallel threads\n",
    "\n",
    "# repeated K-folds\n",
    "N_SPLITS = 10\n",
    "N_REPEATS = 1\n",
    "\n",
    "# Optuna\n",
    "N_TRIALS = 100\n",
    "MULTIVARIATE = True\n",
    "\n",
    "# XGBoost\n",
    "EARLY_STOPPING_ROUNDS = 30"
   ]
  },
  {
   "cell_type": "code",
   "execution_count": 358,
   "metadata": {
    "collapsed": true,
    "jupyter": {
     "outputs_hidden": true
    },
    "tags": []
   },
   "outputs": [
    {
     "name": "stderr",
     "output_type": "stream",
     "text": [
      "C:\\Users\\ndh00560\\AppData\\Local\\Continuum\\anaconda3\\envs\\neuralprophet\\lib\\site-packages\\optuna\\samplers\\_tpe\\sampler.py:253: ExperimentalWarning:\n",
      "\n",
      "``multivariate`` option is an experimental feature. The interface can change in the future.\n",
      "\n",
      "\u001b[32m[I 2021-07-24 17:53:36,138]\u001b[0m A new study created in memory with name: no-name-d9f4b13e-bd12-4d05-92f4-a682ecb88f11\u001b[0m\n",
      "\u001b[32m[I 2021-07-24 17:53:36,653]\u001b[0m Trial 0 finished with value: 0.3976008448582367 and parameters: {'n_estimators': 150, 'max_depth': 10, 'learning_rate': 0.018675986054482886, 'colsample_bytree': 0.3308770188910249, 'subsample': 0.522237444587806, 'alpha': 0.06636940416485738, 'lambda': 0.010272157854456487, 'min_child_weight': 61.794528315016734}. Best is trial 0 with value: 0.3976008448582367.\u001b[0m\n",
      "\u001b[32m[I 2021-07-24 17:53:37,891]\u001b[0m Trial 1 finished with value: -0.10258626700361743 and parameters: {'n_estimators': 317, 'max_depth': 10, 'learning_rate': 0.019863883897580023, 'colsample_bytree': 0.22892346786051174, 'subsample': 0.5240026227682785, 'alpha': 8.413274807593929, 'lambda': 0.00016158093114227923, 'min_child_weight': 19.06965408897461}. Best is trial 1 with value: -0.10258626700361743.\u001b[0m\n",
      "\u001b[32m[I 2021-07-24 17:53:38,367]\u001b[0m Trial 2 finished with value: 0.46793097518397975 and parameters: {'n_estimators': 90, 'max_depth': 10, 'learning_rate': 0.020633624064141605, 'colsample_bytree': 0.5391910392634242, 'subsample': 0.6158732273897668, 'alpha': 0.060306636222079046, 'lambda': 0.0009992153071795662, 'min_child_weight': 64.56140383241545}. Best is trial 1 with value: -0.10258626700361743.\u001b[0m\n",
      "\u001b[32m[I 2021-07-24 17:53:39,665]\u001b[0m Trial 3 finished with value: 0.02484596476888452 and parameters: {'n_estimators': 184, 'max_depth': 8, 'learning_rate': 0.016807040593762004, 'colsample_bytree': 0.5608429614060747, 'subsample': 0.7775194620933836, 'alpha': 8.980394416174395, 'lambda': 1.1984090595201508e-06, 'min_child_weight': 15.637182208463356}. Best is trial 1 with value: -0.10258626700361743.\u001b[0m\n",
      "\u001b[32m[I 2021-07-24 17:53:40,427]\u001b[0m Trial 4 finished with value: -5.859036230099098 and parameters: {'n_estimators': 283, 'max_depth': 9, 'learning_rate': 0.007877744754433577, 'colsample_bytree': 0.4975251655932528, 'subsample': 0.5084575276769833, 'alpha': 0.3483730757916216, 'lambda': 0.00892116947224734, 'min_child_weight': 736.629287325251}. Best is trial 4 with value: -5.859036230099098.\u001b[0m\n",
      "\u001b[32m[I 2021-07-24 17:53:40,770]\u001b[0m Trial 5 finished with value: -0.5110575529789079 and parameters: {'n_estimators': 113, 'max_depth': 10, 'learning_rate': 0.012281534207786252, 'colsample_bytree': 0.3602896023448148, 'subsample': 0.4171103741211065, 'alpha': 4.721363082460142, 'lambda': 0.10019905618157203, 'min_child_weight': 218.89678929744332}. Best is trial 4 with value: -5.859036230099098.\u001b[0m\n",
      "\u001b[32m[I 2021-07-24 17:53:43,907]\u001b[0m Trial 6 finished with value: 0.04039867541012965 and parameters: {'n_estimators': 749, 'max_depth': 9, 'learning_rate': 0.007598646700423808, 'colsample_bytree': 0.5161601599634005, 'subsample': 0.5469575833941475, 'alpha': 0.8895883982608984, 'lambda': 2.718617194613178e-07, 'min_child_weight': 64.85799257294312}. Best is trial 4 with value: -5.859036230099098.\u001b[0m\n",
      "\u001b[32m[I 2021-07-24 17:53:49,358]\u001b[0m Trial 7 finished with value: -0.19645538961256453 and parameters: {'n_estimators': 809, 'max_depth': 10, 'learning_rate': 0.0058867308994060286, 'colsample_bytree': 0.465882655929265, 'subsample': 0.5645947437391846, 'alpha': 1.9987808302128587, 'lambda': 0.01311676432846052, 'min_child_weight': 18.21886576786976}. Best is trial 4 with value: -5.859036230099098.\u001b[0m\n",
      "\u001b[32m[I 2021-07-24 17:53:51,140]\u001b[0m Trial 8 finished with value: -4.853063317755867 and parameters: {'n_estimators': 676, 'max_depth': 4, 'learning_rate': 0.008798764344245865, 'colsample_bytree': 0.5021535345046342, 'subsample': 0.4303440547945056, 'alpha': 1.511113246727625, 'lambda': 3.2446676393612095, 'min_child_weight': 277.5427009268625}. Best is trial 4 with value: -5.859036230099098.\u001b[0m\n",
      "\u001b[32m[I 2021-07-24 17:53:52,459]\u001b[0m Trial 9 finished with value: -0.08942754403113193 and parameters: {'n_estimators': 186, 'max_depth': 10, 'learning_rate': 0.025581350036249832, 'colsample_bytree': 0.582124871709848, 'subsample': 0.7876286925323414, 'alpha': 0.31622512584608864, 'lambda': 0.007965846930681735, 'min_child_weight': 34.477585735407466}. Best is trial 4 with value: -5.859036230099098.\u001b[0m\n",
      "\u001b[32m[I 2021-07-24 17:53:53,546]\u001b[0m Trial 10 finished with value: -5.859036230099098 and parameters: {'n_estimators': 485, 'max_depth': 10, 'learning_rate': 0.015463767317740332, 'colsample_bytree': 0.5080370489649985, 'subsample': 0.6311753821734387, 'alpha': 0.04769814886402013, 'lambda': 0.24133824952387925, 'min_child_weight': 760.2200205314543}. Best is trial 4 with value: -5.859036230099098.\u001b[0m\n",
      "\u001b[32m[I 2021-07-24 17:53:55,020]\u001b[0m Trial 11 finished with value: -5.859036230099098 and parameters: {'n_estimators': 602, 'max_depth': 12, 'learning_rate': 0.012790538776490301, 'colsample_bytree': 0.4702828987285672, 'subsample': 0.6350021867798106, 'alpha': 0.034260824783190154, 'lambda': 4.8102091421491675, 'min_child_weight': 724.4111876143842}. Best is trial 4 with value: -5.859036230099098.\u001b[0m\n",
      "\u001b[32m[I 2021-07-24 17:53:55,712]\u001b[0m Trial 12 finished with value: -5.859036230099098 and parameters: {'n_estimators': 276, 'max_depth': 8, 'learning_rate': 0.019718654792929665, 'colsample_bytree': 0.5804728601042105, 'subsample': 0.4678797455423826, 'alpha': 0.2846144125825877, 'lambda': 0.0026951735096848377, 'min_child_weight': 362.59774038612676}. Best is trial 4 with value: -5.859036230099098.\u001b[0m\n",
      "\u001b[32m[I 2021-07-24 17:53:56,482]\u001b[0m Trial 13 finished with value: -5.859036230099098 and parameters: {'n_estimators': 301, 'max_depth': 9, 'learning_rate': 0.0060948006911581325, 'colsample_bytree': 0.4475480975069326, 'subsample': 0.512871830760194, 'alpha': 0.028854556467585175, 'lambda': 0.006666148288100368, 'min_child_weight': 737.1430123348089}. Best is trial 4 with value: -5.859036230099098.\u001b[0m\n",
      "\u001b[32m[I 2021-07-24 17:53:58,145]\u001b[0m Trial 14 finished with value: -5.859036230099098 and parameters: {'n_estimators': 669, 'max_depth': 10, 'learning_rate': 0.01553983540970905, 'colsample_bytree': 0.5647640677613106, 'subsample': 0.7019868400188232, 'alpha': 0.14909879957908612, 'lambda': 7.623546498853152e-06, 'min_child_weight': 608.2579631289681}. Best is trial 4 with value: -5.859036230099098.\u001b[0m\n",
      "\u001b[32m[I 2021-07-24 17:53:59,254]\u001b[0m Trial 15 finished with value: -5.859036230099098 and parameters: {'n_estimators': 430, 'max_depth': 7, 'learning_rate': 0.023512529770009165, 'colsample_bytree': 0.42320334016430006, 'subsample': 0.6110607954337176, 'alpha': 0.011978132663417, 'lambda': 0.009919595594480059, 'min_child_weight': 968.1240864645189}. Best is trial 4 with value: -5.859036230099098.\u001b[0m\n",
      "\u001b[32m[I 2021-07-24 17:54:00,806]\u001b[0m Trial 16 finished with value: -5.859036230099098 and parameters: {'n_estimators': 665, 'max_depth': 10, 'learning_rate': 0.00699950425686065, 'colsample_bytree': 0.36124262243261246, 'subsample': 0.41226306754378367, 'alpha': 0.6244865837172737, 'lambda': 0.0013401774975255393, 'min_child_weight': 926.667134063455}. Best is trial 4 with value: -5.859036230099098.\u001b[0m\n",
      "\u001b[32m[I 2021-07-24 17:54:02,700]\u001b[0m Trial 17 finished with value: -5.859036230099098 and parameters: {'n_estimators': 904, 'max_depth': 10, 'learning_rate': 0.007908393775540748, 'colsample_bytree': 0.4335390801035709, 'subsample': 0.4363872883429156, 'alpha': 0.2663179863679166, 'lambda': 0.0017505003555855232, 'min_child_weight': 387.5745927185825}. Best is trial 4 with value: -5.859036230099098.\u001b[0m\n",
      "\u001b[32m[I 2021-07-24 17:54:03,757]\u001b[0m Trial 18 finished with value: -0.6133130373041045 and parameters: {'n_estimators': 473, 'max_depth': 5, 'learning_rate': 0.038737292703081384, 'colsample_bytree': 0.2929189437660442, 'subsample': 0.550482902258214, 'alpha': 0.02935627318012296, 'lambda': 0.046444255413187786, 'min_child_weight': 191.28805023882632}. Best is trial 4 with value: -5.859036230099098.\u001b[0m\n",
      "\u001b[32m[I 2021-07-24 17:54:04,924]\u001b[0m Trial 19 finished with value: -5.859036230099098 and parameters: {'n_estimators': 565, 'max_depth': 9, 'learning_rate': 0.008075792475628589, 'colsample_bytree': 0.25662170211013485, 'subsample': 0.48938737468933746, 'alpha': 4.285949857102497, 'lambda': 0.0009190630046183426, 'min_child_weight': 475.4734487046156}. Best is trial 4 with value: -5.859036230099098.\u001b[0m\n",
      "\u001b[32m[I 2021-07-24 17:54:06,914]\u001b[0m Trial 20 finished with value: -0.5834694985391607 and parameters: {'n_estimators': 898, 'max_depth': 12, 'learning_rate': 0.006013795819544625, 'colsample_bytree': 0.5608919225020716, 'subsample': 0.4824161858743021, 'alpha': 0.17186267283612316, 'lambda': 2.0502867804332494, 'min_child_weight': 236.5392610393627}. Best is trial 4 with value: -5.859036230099098.\u001b[0m\n",
      "\u001b[32m[I 2021-07-24 17:54:08,984]\u001b[0m Trial 21 finished with value: -5.859036230099098 and parameters: {'n_estimators': 916, 'max_depth': 8, 'learning_rate': 0.005669398238329169, 'colsample_bytree': 0.4848423275026995, 'subsample': 0.4163026278921671, 'alpha': 0.17048026115354203, 'lambda': 3.492355397538297e-05, 'min_child_weight': 704.5658376403984}. Best is trial 4 with value: -5.859036230099098.\u001b[0m\n",
      "\u001b[32m[I 2021-07-24 17:54:10,213]\u001b[0m Trial 22 finished with value: -0.5755603418425818 and parameters: {'n_estimators': 444, 'max_depth': 6, 'learning_rate': 0.00983700618392321, 'colsample_bytree': 0.2996918878750014, 'subsample': 0.4478058318812349, 'alpha': 2.8089019730934632, 'lambda': 0.00011233587617894147, 'min_child_weight': 215.70394250940998}. Best is trial 4 with value: -5.859036230099098.\u001b[0m\n",
      "\u001b[32m[I 2021-07-24 17:54:11,550]\u001b[0m Trial 23 finished with value: -5.859036230099098 and parameters: {'n_estimators': 637, 'max_depth': 10, 'learning_rate': 0.008383280533215652, 'colsample_bytree': 0.2329956857675193, 'subsample': 0.585685074217987, 'alpha': 3.9292678702656745, 'lambda': 7.328649052385706e-05, 'min_child_weight': 768.8507549333576}. Best is trial 4 with value: -5.859036230099098.\u001b[0m\n",
      "\u001b[32m[I 2021-07-24 17:54:13,477]\u001b[0m Trial 24 finished with value: -5.859036230099098 and parameters: {'n_estimators': 827, 'max_depth': 6, 'learning_rate': 0.0054726921988638025, 'colsample_bytree': 0.5282393422338104, 'subsample': 0.4181417499273007, 'alpha': 0.2697913989525321, 'lambda': 3.319832932945319e-05, 'min_child_weight': 619.9187183211587}. Best is trial 4 with value: -5.859036230099098.\u001b[0m\n",
      "\u001b[32m[I 2021-07-24 17:54:13,721]\u001b[0m Trial 25 finished with value: -5.859036230099098 and parameters: {'n_estimators': 54, 'max_depth': 11, 'learning_rate': 0.02181527629272041, 'colsample_bytree': 0.4729965899499333, 'subsample': 0.5635588937285567, 'alpha': 1.041642698250866, 'lambda': 5.6878036903042615e-06, 'min_child_weight': 658.1202458671996}. Best is trial 4 with value: -5.859036230099098.\u001b[0m\n",
      "\u001b[32m[I 2021-07-24 17:54:14,977]\u001b[0m Trial 26 finished with value: -5.859036230099098 and parameters: {'n_estimators': 508, 'max_depth': 12, 'learning_rate': 0.008352238274649568, 'colsample_bytree': 0.26521401016805, 'subsample': 0.7171354035486284, 'alpha': 7.6727560021272865, 'lambda': 1.9270907346468345e-05, 'min_child_weight': 816.8262234489916}. Best is trial 4 with value: -5.859036230099098.\u001b[0m\n",
      "\u001b[32m[I 2021-07-24 17:54:15,562]\u001b[0m Trial 27 finished with value: -5.859036230099098 and parameters: {'n_estimators': 248, 'max_depth': 10, 'learning_rate': 0.010930843483874185, 'colsample_bytree': 0.4921406068847711, 'subsample': 0.4557581492941127, 'alpha': 0.011603887074776642, 'lambda': 0.023434274823083644, 'min_child_weight': 990.7693451634852}. Best is trial 4 with value: -5.859036230099098.\u001b[0m\n",
      "\u001b[32m[I 2021-07-24 17:54:15,961]\u001b[0m Trial 28 finished with value: -5.859036230099098 and parameters: {'n_estimators': 132, 'max_depth': 12, 'learning_rate': 0.012787950279048636, 'colsample_bytree': 0.5330441627652056, 'subsample': 0.6433320586653135, 'alpha': 0.3992094574916759, 'lambda': 1.3834216466495593e-07, 'min_child_weight': 560.8933466118223}. Best is trial 4 with value: -5.859036230099098.\u001b[0m\n",
      "\u001b[32m[I 2021-07-24 17:54:17,346]\u001b[0m Trial 29 finished with value: -5.859036230099098 and parameters: {'n_estimators': 625, 'max_depth': 10, 'learning_rate': 0.010352706037395649, 'colsample_bytree': 0.3958661195412037, 'subsample': 0.7215528761028478, 'alpha': 0.11587095973842086, 'lambda': 1.7618843321988183e-06, 'min_child_weight': 850.0958225632597}. Best is trial 4 with value: -5.859036230099098.\u001b[0m\n",
      "\u001b[32m[I 2021-07-24 17:54:17,871]\u001b[0m Trial 30 finished with value: -0.5945245260268152 and parameters: {'n_estimators': 225, 'max_depth': 11, 'learning_rate': 0.0053105904424082155, 'colsample_bytree': 0.2965717026282665, 'subsample': 0.7254531029136237, 'alpha': 3.5843617697257733, 'lambda': 6.072314756398803e-05, 'min_child_weight': 350.0399411337874}. Best is trial 4 with value: -5.859036230099098.\u001b[0m\n",
      "\u001b[32m[I 2021-07-24 17:54:19,022]\u001b[0m Trial 31 finished with value: -5.859036230099098 and parameters: {'n_estimators': 555, 'max_depth': 11, 'learning_rate': 0.016129277872437866, 'colsample_bytree': 0.3552989777858327, 'subsample': 0.7576364365540037, 'alpha': 0.08797062347366397, 'lambda': 2.347132015223114e-07, 'min_child_weight': 784.5854950430505}. Best is trial 4 with value: -5.859036230099098.\u001b[0m\n",
      "\u001b[32m[I 2021-07-24 17:54:19,787]\u001b[0m Trial 32 finished with value: -5.859036230099098 and parameters: {'n_estimators': 321, 'max_depth': 7, 'learning_rate': 0.023738597995596813, 'colsample_bytree': 0.443342950452933, 'subsample': 0.6117859741187979, 'alpha': 0.01514529483513558, 'lambda': 0.00016240959802434144, 'min_child_weight': 472.7047493294227}. Best is trial 4 with value: -5.859036230099098.\u001b[0m\n",
      "\u001b[32m[I 2021-07-24 17:54:20,144]\u001b[0m Trial 33 finished with value: 0.39882543102793083 and parameters: {'n_estimators': 138, 'max_depth': 12, 'learning_rate': 0.01201742613339634, 'colsample_bytree': 0.3573462415497706, 'subsample': 0.5998452811677493, 'alpha': 0.25005179646049386, 'lambda': 9.813126693578937e-08, 'min_child_weight': 167.9195584151745}. Best is trial 4 with value: -5.859036230099098.\u001b[0m\n",
      "\u001b[32m[I 2021-07-24 17:54:20,432]\u001b[0m Trial 34 finished with value: -3.338471675787601 and parameters: {'n_estimators': 113, 'max_depth': 12, 'learning_rate': 0.011030920588261547, 'colsample_bytree': 0.5588011557039704, 'subsample': 0.7481537762113616, 'alpha': 0.044342069300459155, 'lambda': 2.0933597221445834e-06, 'min_child_weight': 444.32388276977906}. Best is trial 4 with value: -5.859036230099098.\u001b[0m\n",
      "\u001b[32m[I 2021-07-24 17:54:22,220]\u001b[0m Trial 35 finished with value: -5.859036230099098 and parameters: {'n_estimators': 758, 'max_depth': 9, 'learning_rate': 0.013235348634380792, 'colsample_bytree': 0.4555788675335638, 'subsample': 0.4718845787559744, 'alpha': 1.5717259526991878, 'lambda': 0.007649101170633237, 'min_child_weight': 886.5020202751201}. Best is trial 4 with value: -5.859036230099098.\u001b[0m\n",
      "\u001b[32m[I 2021-07-24 17:54:23,590]\u001b[0m Trial 36 finished with value: -0.5600555095419424 and parameters: {'n_estimators': 598, 'max_depth': 10, 'learning_rate': 0.017121591271595852, 'colsample_bytree': 0.2743613224561237, 'subsample': 0.7158156393225319, 'alpha': 0.045399568525731626, 'lambda': 9.711519459393032e-06, 'min_child_weight': 366.9689733735815}. Best is trial 4 with value: -5.859036230099098.\u001b[0m\n",
      "\u001b[32m[I 2021-07-24 17:54:25,517]\u001b[0m Trial 37 finished with value: -5.859036230099098 and parameters: {'n_estimators': 866, 'max_depth': 8, 'learning_rate': 0.006675136819178667, 'colsample_bytree': 0.5602897404574942, 'subsample': 0.4058779868056957, 'alpha': 0.1703988564332735, 'lambda': 2.005983497229323e-07, 'min_child_weight': 407.6048884692596}. Best is trial 4 with value: -5.859036230099098.\u001b[0m\n",
      "\u001b[32m[I 2021-07-24 17:54:27,436]\u001b[0m Trial 38 finished with value: -5.859036230099098 and parameters: {'n_estimators': 830, 'max_depth': 7, 'learning_rate': 0.016952353542505967, 'colsample_bytree': 0.5892368871046885, 'subsample': 0.4016725891326146, 'alpha': 0.3898781050825215, 'lambda': 1.5287490648437957e-08, 'min_child_weight': 591.7509143937922}. Best is trial 4 with value: -5.859036230099098.\u001b[0m\n",
      "\u001b[32m[I 2021-07-24 17:54:28,285]\u001b[0m Trial 39 finished with value: -5.859036230099098 and parameters: {'n_estimators': 370, 'max_depth': 7, 'learning_rate': 0.015279744278313894, 'colsample_bytree': 0.5726181825003179, 'subsample': 0.7188892565898417, 'alpha': 0.010480378829605175, 'lambda': 1.4786957628301015e-05, 'min_child_weight': 520.3533916146132}. Best is trial 4 with value: -5.859036230099098.\u001b[0m\n",
      "\u001b[32m[I 2021-07-24 17:54:29,884]\u001b[0m Trial 40 finished with value: -0.5631183293857742 and parameters: {'n_estimators': 763, 'max_depth': 10, 'learning_rate': 0.005470455246057335, 'colsample_bytree': 0.2172008149085747, 'subsample': 0.4322128520838308, 'alpha': 2.8531441910169453, 'lambda': 0.0007825431594660918, 'min_child_weight': 175.42323976205353}. Best is trial 4 with value: -5.859036230099098.\u001b[0m\n",
      "\u001b[32m[I 2021-07-24 17:54:31,221]\u001b[0m Trial 41 finished with value: -5.859036230099098 and parameters: {'n_estimators': 628, 'max_depth': 12, 'learning_rate': 0.007005398797979343, 'colsample_bytree': 0.2552095983754996, 'subsample': 0.71417718404262, 'alpha': 9.804656488758127, 'lambda': 7.657490469400848e-07, 'min_child_weight': 833.127150944625}. Best is trial 4 with value: -5.859036230099098.\u001b[0m\n",
      "\u001b[32m[I 2021-07-24 17:54:32,717]\u001b[0m Trial 42 finished with value: -5.859036230099098 and parameters: {'n_estimators': 744, 'max_depth': 12, 'learning_rate': 0.005604883176643078, 'colsample_bytree': 0.27309305295855923, 'subsample': 0.6452323911814949, 'alpha': 9.052272832962506, 'lambda': 3.6425315354012395e-07, 'min_child_weight': 524.8603393725845}. Best is trial 4 with value: -5.859036230099098.\u001b[0m\n",
      "\u001b[32m[I 2021-07-24 17:54:34,040]\u001b[0m Trial 43 finished with value: -5.859036230099098 and parameters: {'n_estimators': 554, 'max_depth': 4, 'learning_rate': 0.0055565348301830466, 'colsample_bytree': 0.3977181130318143, 'subsample': 0.4566903822367614, 'alpha': 0.09210887919996774, 'lambda': 0.00010053405568052991, 'min_child_weight': 355.36034909273945}. Best is trial 4 with value: -5.859036230099098.\u001b[0m\n",
      "\u001b[32m[I 2021-07-24 17:54:35,581]\u001b[0m Trial 44 finished with value: -0.5851640050033885 and parameters: {'n_estimators': 707, 'max_depth': 11, 'learning_rate': 0.012680078975883967, 'colsample_bytree': 0.26574604624087117, 'subsample': 0.7794063624780724, 'alpha': 2.1617210691726276, 'lambda': 0.0056279622513207336, 'min_child_weight': 287.72996946182013}. Best is trial 4 with value: -5.859036230099098.\u001b[0m\n",
      "\u001b[32m[I 2021-07-24 17:54:36,365]\u001b[0m Trial 45 finished with value: -0.5157661436504013 and parameters: {'n_estimators': 333, 'max_depth': 9, 'learning_rate': 0.013119694297172253, 'colsample_bytree': 0.46475977885926084, 'subsample': 0.4226990845106148, 'alpha': 0.02483630006243749, 'lambda': 0.32404542705873574, 'min_child_weight': 230.85109506429575}. Best is trial 4 with value: -5.859036230099098.\u001b[0m\n",
      "\u001b[32m[I 2021-07-24 17:54:36,721]\u001b[0m Trial 46 finished with value: -0.5176365595342066 and parameters: {'n_estimators': 137, 'max_depth': 4, 'learning_rate': 0.03330079324095519, 'colsample_bytree': 0.4028033710283817, 'subsample': 0.6243415585640354, 'alpha': 0.012529386489965828, 'lambda': 2.080118729306025e-06, 'min_child_weight': 356.4572044642893}. Best is trial 4 with value: -5.859036230099098.\u001b[0m\n",
      "\u001b[32m[I 2021-07-24 17:54:37,907]\u001b[0m Trial 47 finished with value: -5.859036230099098 and parameters: {'n_estimators': 543, 'max_depth': 9, 'learning_rate': 0.007501383588985785, 'colsample_bytree': 0.3602786909866254, 'subsample': 0.7962235947637135, 'alpha': 0.3697152063562948, 'lambda': 3.7661615860033643e-07, 'min_child_weight': 984.6987256203898}. Best is trial 4 with value: -5.859036230099098.\u001b[0m\n",
      "\u001b[32m[I 2021-07-24 17:54:38,839]\u001b[0m Trial 48 finished with value: -5.859036230099098 and parameters: {'n_estimators': 505, 'max_depth': 8, 'learning_rate': 0.008087453491957743, 'colsample_bytree': 0.2051804072348066, 'subsample': 0.6317269482517776, 'alpha': 2.4939608683336485, 'lambda': 0.00010961352740509624, 'min_child_weight': 939.1903673148053}. Best is trial 4 with value: -5.859036230099098.\u001b[0m\n",
      "\u001b[32m[I 2021-07-24 17:54:39,118]\u001b[0m Trial 49 finished with value: -5.859036230099098 and parameters: {'n_estimators': 123, 'max_depth': 11, 'learning_rate': 0.02634193160587803, 'colsample_bytree': 0.4875052276496883, 'subsample': 0.6180165944108422, 'alpha': 9.40605509619121, 'lambda': 2.8821878435387203e-06, 'min_child_weight': 708.5727387624422}. Best is trial 4 with value: -5.859036230099098.\u001b[0m\n",
      "\u001b[32m[I 2021-07-24 17:54:40,150]\u001b[0m Trial 50 finished with value: -5.859036230099098 and parameters: {'n_estimators': 432, 'max_depth': 6, 'learning_rate': 0.005949897884728698, 'colsample_bytree': 0.24777581991765593, 'subsample': 0.641159532768693, 'alpha': 2.176618952442978, 'lambda': 2.296773200257098e-05, 'min_child_weight': 630.4322896939709}. Best is trial 4 with value: -5.859036230099098.\u001b[0m\n",
      "\u001b[32m[I 2021-07-24 17:54:40,697]\u001b[0m Trial 51 finished with value: -5.859036230099098 and parameters: {'n_estimators': 225, 'max_depth': 11, 'learning_rate': 0.025691923721108248, 'colsample_bytree': 0.4355500665265985, 'subsample': 0.701305921136319, 'alpha': 5.1644619488910655, 'lambda': 1.8517652252480073e-08, 'min_child_weight': 502.6618785609539}. Best is trial 4 with value: -5.859036230099098.\u001b[0m\n",
      "\u001b[32m[I 2021-07-24 17:54:41,350]\u001b[0m Trial 52 finished with value: 0.1658182205846125 and parameters: {'n_estimators': 334, 'max_depth': 4, 'learning_rate': 0.006185398330037551, 'colsample_bytree': 0.20228156412820894, 'subsample': 0.6554568389662303, 'alpha': 5.311970825915326, 'lambda': 8.208196373119649e-05, 'min_child_weight': 189.0744924087468}. Best is trial 4 with value: -5.859036230099098.\u001b[0m\n",
      "\u001b[32m[I 2021-07-24 17:54:41,520]\u001b[0m Trial 53 finished with value: -5.859036230099098 and parameters: {'n_estimators': 53, 'max_depth': 11, 'learning_rate': 0.017210449066590656, 'colsample_bytree': 0.5315861719530268, 'subsample': 0.5566540932984833, 'alpha': 0.3030255142484792, 'lambda': 1.181254044432177e-05, 'min_child_weight': 731.4331226971909}. Best is trial 4 with value: -5.859036230099098.\u001b[0m\n",
      "\u001b[32m[I 2021-07-24 17:54:42,425]\u001b[0m Trial 54 finished with value: -5.859036230099098 and parameters: {'n_estimators': 376, 'max_depth': 12, 'learning_rate': 0.015142320061490678, 'colsample_bytree': 0.5147396723329893, 'subsample': 0.45741933212133185, 'alpha': 0.03447034998392526, 'lambda': 0.1013856006435656, 'min_child_weight': 856.0063852938515}. Best is trial 4 with value: -5.859036230099098.\u001b[0m\n",
      "\u001b[32m[I 2021-07-24 17:54:42,930]\u001b[0m Trial 55 finished with value: -5.859036230099098 and parameters: {'n_estimators': 185, 'max_depth': 11, 'learning_rate': 0.016641517705864316, 'colsample_bytree': 0.5696062658657723, 'subsample': 0.5825744501056477, 'alpha': 0.19219579914202695, 'lambda': 1.6912657536032964e-07, 'min_child_weight': 583.5383863324952}. Best is trial 4 with value: -5.859036230099098.\u001b[0m\n",
      "\u001b[32m[I 2021-07-24 17:54:43,372]\u001b[0m Trial 56 finished with value: -5.859036230099098 and parameters: {'n_estimators': 169, 'max_depth': 11, 'learning_rate': 0.015123845231309734, 'colsample_bytree': 0.43458917680324377, 'subsample': 0.5055759212812331, 'alpha': 0.02375004125454481, 'lambda': 0.7295039269544102, 'min_child_weight': 924.0283247883027}. Best is trial 4 with value: -5.859036230099098.\u001b[0m\n",
      "\u001b[32m[I 2021-07-24 17:54:44,854]\u001b[0m Trial 57 finished with value: -5.859036230099098 and parameters: {'n_estimators': 685, 'max_depth': 12, 'learning_rate': 0.016549513690233927, 'colsample_bytree': 0.37794708207947264, 'subsample': 0.7384589336861875, 'alpha': 0.27664598388016953, 'lambda': 1.1255042392140981e-08, 'min_child_weight': 765.4423296939727}. Best is trial 4 with value: -5.859036230099098.\u001b[0m\n",
      "\u001b[32m[I 2021-07-24 17:54:45,184]\u001b[0m Trial 58 finished with value: -5.859036230099098 and parameters: {'n_estimators': 113, 'max_depth': 9, 'learning_rate': 0.014230719507868576, 'colsample_bytree': 0.4746614039563255, 'subsample': 0.4003571175038847, 'alpha': 0.013799526758278037, 'lambda': 0.00031439174120620163, 'min_child_weight': 646.6571225770638}. Best is trial 4 with value: -5.859036230099098.\u001b[0m\n",
      "\u001b[32m[I 2021-07-24 17:54:46,846]\u001b[0m Trial 59 finished with value: -5.859036230099098 and parameters: {'n_estimators': 824, 'max_depth': 12, 'learning_rate': 0.023396252846262264, 'colsample_bytree': 0.43530095123146945, 'subsample': 0.7056759612813852, 'alpha': 0.07688949908004442, 'lambda': 3.3018662408215046e-08, 'min_child_weight': 529.3431050560793}. Best is trial 4 with value: -5.859036230099098.\u001b[0m\n",
      "\u001b[32m[I 2021-07-24 17:54:47,450]\u001b[0m Trial 60 finished with value: -5.859036230099098 and parameters: {'n_estimators': 259, 'max_depth': 6, 'learning_rate': 0.017173205057637458, 'colsample_bytree': 0.41053399715530786, 'subsample': 0.45067351771101233, 'alpha': 0.017580772377603273, 'lambda': 0.00020292570528738206, 'min_child_weight': 549.519471178393}. Best is trial 4 with value: -5.859036230099098.\u001b[0m\n",
      "\u001b[32m[I 2021-07-24 17:54:48,247]\u001b[0m Trial 61 finished with value: -5.859036230099098 and parameters: {'n_estimators': 395, 'max_depth': 12, 'learning_rate': 0.019594101708461546, 'colsample_bytree': 0.25572540981964853, 'subsample': 0.7079901643453367, 'alpha': 2.2560348487766846, 'lambda': 5.30609901278339e-06, 'min_child_weight': 685.4417216322455}. Best is trial 4 with value: -5.859036230099098.\u001b[0m\n",
      "\u001b[32m[I 2021-07-24 17:54:49,323]\u001b[0m Trial 62 finished with value: -5.859036230099098 and parameters: {'n_estimators': 453, 'max_depth': 11, 'learning_rate': 0.0260323754505044, 'colsample_bytree': 0.29087182123175137, 'subsample': 0.7258740732740231, 'alpha': 1.8055169800354107, 'lambda': 3.220588909039851e-06, 'min_child_weight': 773.4733842793}. Best is trial 4 with value: -5.859036230099098.\u001b[0m\n",
      "\u001b[32m[I 2021-07-24 17:54:51,238]\u001b[0m Trial 63 finished with value: -0.5960567292099819 and parameters: {'n_estimators': 882, 'max_depth': 9, 'learning_rate': 0.018531916082092457, 'colsample_bytree': 0.42964165748438266, 'subsample': 0.4301752834461051, 'alpha': 0.12636294327092615, 'lambda': 2.032610674511804e-07, 'min_child_weight': 193.41990848733644}. Best is trial 4 with value: -5.859036230099098.\u001b[0m\n",
      "\u001b[32m[I 2021-07-24 17:54:52,883]\u001b[0m Trial 64 finished with value: -5.859036230099098 and parameters: {'n_estimators': 704, 'max_depth': 5, 'learning_rate': 0.007461392260442552, 'colsample_bytree': 0.5733507570849684, 'subsample': 0.4065895712053839, 'alpha': 0.31583302080027104, 'lambda': 0.00034180409400847366, 'min_child_weight': 596.0326061506589}. Best is trial 4 with value: -5.859036230099098.\u001b[0m\n",
      "\u001b[32m[I 2021-07-24 17:54:54,764]\u001b[0m Trial 65 finished with value: -5.859036230099098 and parameters: {'n_estimators': 707, 'max_depth': 6, 'learning_rate': 0.038257729257261015, 'colsample_bytree': 0.5161051839203722, 'subsample': 0.4454658095780495, 'alpha': 0.20749362850986414, 'lambda': 2.3183846419952123e-07, 'min_child_weight': 778.924743599712}. Best is trial 4 with value: -5.859036230099098.\u001b[0m\n",
      "\u001b[32m[I 2021-07-24 17:54:56,986]\u001b[0m Trial 66 finished with value: -5.859036230099098 and parameters: {'n_estimators': 975, 'max_depth': 8, 'learning_rate': 0.006118839804145425, 'colsample_bytree': 0.5934502396274035, 'subsample': 0.5022563383034172, 'alpha': 0.022637744573650906, 'lambda': 1.3606916649815426e-08, 'min_child_weight': 599.0278743342895}. Best is trial 4 with value: -5.859036230099098.\u001b[0m\n",
      "\u001b[32m[I 2021-07-24 17:54:58,371]\u001b[0m Trial 67 finished with value: -5.859036230099098 and parameters: {'n_estimators': 632, 'max_depth': 7, 'learning_rate': 0.03777989291721551, 'colsample_bytree': 0.5567235133692983, 'subsample': 0.4495419173341609, 'alpha': 0.29253785444256947, 'lambda': 2.0238972893183767e-07, 'min_child_weight': 605.451541368778}. Best is trial 4 with value: -5.859036230099098.\u001b[0m\n",
      "\u001b[32m[I 2021-07-24 17:55:00,490]\u001b[0m Trial 68 finished with value: -5.859036230099098 and parameters: {'n_estimators': 903, 'max_depth': 8, 'learning_rate': 0.01103639704521952, 'colsample_bytree': 0.5717370298227475, 'subsample': 0.5598229695424561, 'alpha': 0.011179663013698427, 'lambda': 6.388160160698635e-07, 'min_child_weight': 653.8224072459944}. Best is trial 4 with value: -5.859036230099098.\u001b[0m\n",
      "\u001b[32m[I 2021-07-24 17:55:02,057]\u001b[0m Trial 69 finished with value: -5.859036230099098 and parameters: {'n_estimators': 724, 'max_depth': 9, 'learning_rate': 0.009823279356593197, 'colsample_bytree': 0.39396655879419823, 'subsample': 0.5844751979954005, 'alpha': 0.2313798147099907, 'lambda': 6.251029818025986e-05, 'min_child_weight': 550.4464121431344}. Best is trial 4 with value: -5.859036230099098.\u001b[0m\n",
      "\u001b[32m[I 2021-07-24 17:55:02,798]\u001b[0m Trial 70 finished with value: -5.859036230099098 and parameters: {'n_estimators': 278, 'max_depth': 11, 'learning_rate': 0.02078790560074185, 'colsample_bytree': 0.38045090821411615, 'subsample': 0.7142283549966909, 'alpha': 0.023104102519581848, 'lambda': 1.4031863791211577e-08, 'min_child_weight': 686.0140499922675}. Best is trial 4 with value: -5.859036230099098.\u001b[0m\n",
      "\u001b[32m[I 2021-07-24 17:55:04,331]\u001b[0m Trial 71 finished with value: -5.859036230099098 and parameters: {'n_estimators': 714, 'max_depth': 12, 'learning_rate': 0.005790129469856097, 'colsample_bytree': 0.35382453985884293, 'subsample': 0.5569989399480316, 'alpha': 1.4721501711743517, 'lambda': 4.664883394990588e-08, 'min_child_weight': 862.3689500025943}. Best is trial 4 with value: -5.859036230099098.\u001b[0m\n",
      "\u001b[32m[I 2021-07-24 17:55:05,540]\u001b[0m Trial 72 finished with value: 0.24617124241504898 and parameters: {'n_estimators': 352, 'max_depth': 5, 'learning_rate': 0.013046042649529146, 'colsample_bytree': 0.5549195968392074, 'subsample': 0.7605353796690616, 'alpha': 0.022032225891895824, 'lambda': 6.633510056096913e-07, 'min_child_weight': 142.91104403752493}. Best is trial 4 with value: -5.859036230099098.\u001b[0m\n",
      "\u001b[32m[I 2021-07-24 17:55:07,330]\u001b[0m Trial 73 finished with value: -0.5800367068898366 and parameters: {'n_estimators': 818, 'max_depth': 8, 'learning_rate': 0.01154812723609466, 'colsample_bytree': 0.5365879220194444, 'subsample': 0.6981858133005298, 'alpha': 0.011662890321921275, 'lambda': 2.7782464161858857e-08, 'min_child_weight': 395.6590854713396}. Best is trial 4 with value: -5.859036230099098.\u001b[0m\n",
      "\u001b[32m[I 2021-07-24 17:55:09,061]\u001b[0m Trial 74 finished with value: 0.21916981208791014 and parameters: {'n_estimators': 688, 'max_depth': 7, 'learning_rate': 0.009405340447721853, 'colsample_bytree': 0.5594873415834961, 'subsample': 0.41000325538847127, 'alpha': 0.8194245812748656, 'lambda': 5.99516628542138e-07, 'min_child_weight': 105.88625560999941}. Best is trial 4 with value: -5.859036230099098.\u001b[0m\n",
      "\u001b[32m[I 2021-07-24 17:55:11,168]\u001b[0m Trial 75 finished with value: -5.859036230099098 and parameters: {'n_estimators': 767, 'max_depth': 7, 'learning_rate': 0.01625278617217886, 'colsample_bytree': 0.47773350256021946, 'subsample': 0.545487057401753, 'alpha': 0.010047712779652012, 'lambda': 4.938586190901621e-05, 'min_child_weight': 911.8716882239598}. Best is trial 4 with value: -5.859036230099098.\u001b[0m\n",
      "\u001b[32m[I 2021-07-24 17:55:12,335]\u001b[0m Trial 76 finished with value: -5.859036230099098 and parameters: {'n_estimators': 591, 'max_depth': 3, 'learning_rate': 0.00815387614187474, 'colsample_bytree': 0.35874162496274065, 'subsample': 0.4418751968907193, 'alpha': 0.023895845379376383, 'lambda': 3.195000100537346e-05, 'min_child_weight': 567.2172017570715}. Best is trial 4 with value: -5.859036230099098.\u001b[0m\n",
      "\u001b[32m[I 2021-07-24 17:55:14,271]\u001b[0m Trial 77 finished with value: -5.859036230099098 and parameters: {'n_estimators': 868, 'max_depth': 10, 'learning_rate': 0.006152137258377703, 'colsample_bytree': 0.5629756618313752, 'subsample': 0.40234600242470875, 'alpha': 0.31017758600069295, 'lambda': 1.775776808142558e-08, 'min_child_weight': 300.6198440859796}. Best is trial 4 with value: -5.859036230099098.\u001b[0m\n",
      "\u001b[32m[I 2021-07-24 17:55:15,717]\u001b[0m Trial 78 finished with value: -5.859036230099098 and parameters: {'n_estimators': 650, 'max_depth': 3, 'learning_rate': 0.010627845038816393, 'colsample_bytree': 0.2813998351670211, 'subsample': 0.40905659438439274, 'alpha': 0.03749537246162899, 'lambda': 0.001683871501741607, 'min_child_weight': 302.6028894519104}. Best is trial 4 with value: -5.859036230099098.\u001b[0m\n",
      "\u001b[32m[I 2021-07-24 17:55:17,463]\u001b[0m Trial 79 finished with value: -5.859036230099098 and parameters: {'n_estimators': 798, 'max_depth': 12, 'learning_rate': 0.00544915652315311, 'colsample_bytree': 0.2059007410407598, 'subsample': 0.7278869047821745, 'alpha': 1.6401685761548952, 'lambda': 5.704623550568618e-06, 'min_child_weight': 554.7130539028192}. Best is trial 4 with value: -5.859036230099098.\u001b[0m\n",
      "\u001b[32m[I 2021-07-24 17:55:19,119]\u001b[0m Trial 80 finished with value: 0.09376344976475456 and parameters: {'n_estimators': 603, 'max_depth': 2, 'learning_rate': 0.016687568396386746, 'colsample_bytree': 0.36032782240375055, 'subsample': 0.4621066485400324, 'alpha': 0.17868399598180618, 'lambda': 0.002846198928865242, 'min_child_weight': 93.91617309388926}. Best is trial 4 with value: -5.859036230099098.\u001b[0m\n",
      "\u001b[32m[I 2021-07-24 17:55:21,238]\u001b[0m Trial 81 finished with value: -0.5977399124800742 and parameters: {'n_estimators': 932, 'max_depth': 11, 'learning_rate': 0.007243872826078188, 'colsample_bytree': 0.5113798908094772, 'subsample': 0.4318524457992187, 'alpha': 0.20205786500506628, 'lambda': 8.377450478194713e-08, 'min_child_weight': 174.91083475556152}. Best is trial 4 with value: -5.859036230099098.\u001b[0m\n",
      "\u001b[32m[I 2021-07-24 17:55:22,890]\u001b[0m Trial 82 finished with value: -5.859036230099098 and parameters: {'n_estimators': 744, 'max_depth': 7, 'learning_rate': 0.0073415986281917195, 'colsample_bytree': 0.43967156885095504, 'subsample': 0.5246148436929168, 'alpha': 5.466107836247372, 'lambda': 0.0009746481835291639, 'min_child_weight': 803.9529956747917}. Best is trial 4 with value: -5.859036230099098.\u001b[0m\n",
      "\u001b[32m[I 2021-07-24 17:55:23,381]\u001b[0m Trial 83 finished with value: -5.859036230099098 and parameters: {'n_estimators': 196, 'max_depth': 12, 'learning_rate': 0.016635723870138716, 'colsample_bytree': 0.591972753991851, 'subsample': 0.42368006181600326, 'alpha': 0.06297903224620302, 'lambda': 3.4773482387815635, 'min_child_weight': 686.3675700677267}. Best is trial 4 with value: -5.859036230099098.\u001b[0m\n",
      "\u001b[32m[I 2021-07-24 17:55:23,663]\u001b[0m Trial 84 finished with value: -5.859036230099098 and parameters: {'n_estimators': 75, 'max_depth': 10, 'learning_rate': 0.036623177481851836, 'colsample_bytree': 0.3455577712505444, 'subsample': 0.685861977201737, 'alpha': 7.973305134210086, 'lambda': 1.1688673220548346e-08, 'min_child_weight': 890.7445208299911}. Best is trial 4 with value: -5.859036230099098.\u001b[0m\n",
      "\u001b[32m[I 2021-07-24 17:55:24,534]\u001b[0m Trial 85 finished with value: -5.859036230099098 and parameters: {'n_estimators': 346, 'max_depth': 4, 'learning_rate': 0.01007956496061264, 'colsample_bytree': 0.2914153984999713, 'subsample': 0.7043542222903343, 'alpha': 1.1925977330265303, 'lambda': 4.5334413647700674e-07, 'min_child_weight': 999.9757766665934}. Best is trial 4 with value: -5.859036230099098.\u001b[0m\n",
      "\u001b[32m[I 2021-07-24 17:55:24,993]\u001b[0m Trial 86 finished with value: -5.859036230099098 and parameters: {'n_estimators': 149, 'max_depth': 12, 'learning_rate': 0.01068407907547775, 'colsample_bytree': 0.41080587561081006, 'subsample': 0.5657039908480909, 'alpha': 0.329656849788929, 'lambda': 0.35615758936488484, 'min_child_weight': 959.2450726908559}. Best is trial 4 with value: -5.859036230099098.\u001b[0m\n",
      "\u001b[32m[I 2021-07-24 17:55:26,443]\u001b[0m Trial 87 finished with value: -5.859036230099098 and parameters: {'n_estimators': 662, 'max_depth': 11, 'learning_rate': 0.03326265850904968, 'colsample_bytree': 0.4508796239746589, 'subsample': 0.6862009583421486, 'alpha': 0.40802798193548667, 'lambda': 1.4721149056002876e-08, 'min_child_weight': 739.6308153618471}. Best is trial 4 with value: -5.859036230099098.\u001b[0m\n",
      "\u001b[32m[I 2021-07-24 17:55:26,832]\u001b[0m Trial 88 finished with value: -0.4484502078689717 and parameters: {'n_estimators': 144, 'max_depth': 10, 'learning_rate': 0.02016323529724156, 'colsample_bytree': 0.5106303644327226, 'subsample': 0.4307243991139735, 'alpha': 0.02432223780400166, 'lambda': 3.778638030242648e-05, 'min_child_weight': 239.17891438955576}. Best is trial 4 with value: -5.859036230099098.\u001b[0m\n",
      "\u001b[32m[I 2021-07-24 17:55:28,659]\u001b[0m Trial 89 finished with value: -0.5731792688750136 and parameters: {'n_estimators': 827, 'max_depth': 11, 'learning_rate': 0.011632218282957628, 'colsample_bytree': 0.36276380285359544, 'subsample': 0.6722881120303408, 'alpha': 5.130281703734572, 'lambda': 1.0775309476166239e-06, 'min_child_weight': 212.85794814413356}. Best is trial 4 with value: -5.859036230099098.\u001b[0m\n",
      "\u001b[32m[I 2021-07-24 17:55:29,952]\u001b[0m Trial 90 finished with value: -5.859036230099098 and parameters: {'n_estimators': 556, 'max_depth': 3, 'learning_rate': 0.0063104834991979586, 'colsample_bytree': 0.36072967772606235, 'subsample': 0.456042748862153, 'alpha': 0.5163097223258728, 'lambda': 3.0695722470079655e-06, 'min_child_weight': 387.43383696611454}. Best is trial 4 with value: -5.859036230099098.\u001b[0m\n",
      "\u001b[32m[I 2021-07-24 17:55:30,575]\u001b[0m Trial 91 finished with value: -5.859036230099098 and parameters: {'n_estimators': 240, 'max_depth': 4, 'learning_rate': 0.005252465666891181, 'colsample_bytree': 0.34393346700923294, 'subsample': 0.47496109533274944, 'alpha': 0.28422982657016876, 'lambda': 9.297860059469249e-05, 'min_child_weight': 800.9480579573635}. Best is trial 4 with value: -5.859036230099098.\u001b[0m\n",
      "\u001b[32m[I 2021-07-24 17:55:31,540]\u001b[0m Trial 92 finished with value: -5.859036230099098 and parameters: {'n_estimators': 392, 'max_depth': 12, 'learning_rate': 0.02117331656531306, 'colsample_bytree': 0.47924934219746523, 'subsample': 0.6076534217938542, 'alpha': 8.819822424597424, 'lambda': 1.353783347026185e-07, 'min_child_weight': 388.28911857949396}. Best is trial 4 with value: -5.859036230099098.\u001b[0m\n",
      "\u001b[32m[I 2021-07-24 17:55:31,998]\u001b[0m Trial 93 finished with value: -5.859036230099098 and parameters: {'n_estimators': 168, 'max_depth': 5, 'learning_rate': 0.005442773063465157, 'colsample_bytree': 0.3247454689606473, 'subsample': 0.41742936888107757, 'alpha': 0.19860788370550925, 'lambda': 1.851267362391488e-05, 'min_child_weight': 546.6279861028803}. Best is trial 4 with value: -5.859036230099098.\u001b[0m\n",
      "\u001b[32m[I 2021-07-24 17:55:33,014]\u001b[0m Trial 94 finished with value: -5.859036230099098 and parameters: {'n_estimators': 399, 'max_depth': 10, 'learning_rate': 0.0150777916206283, 'colsample_bytree': 0.4953920088809646, 'subsample': 0.5515698005024401, 'alpha': 9.367679146355348, 'lambda': 1.1122137011745803e-07, 'min_child_weight': 508.9025195668557}. Best is trial 4 with value: -5.859036230099098.\u001b[0m\n",
      "\u001b[32m[I 2021-07-24 17:55:33,937]\u001b[0m Trial 95 finished with value: -5.859036230099098 and parameters: {'n_estimators': 471, 'max_depth': 10, 'learning_rate': 0.02786559787871723, 'colsample_bytree': 0.264939472719116, 'subsample': 0.7483408044214481, 'alpha': 1.6876619737400453, 'lambda': 1.48276005939224e-07, 'min_child_weight': 858.5674441349095}. Best is trial 4 with value: -5.859036230099098.\u001b[0m\n",
      "\u001b[32m[I 2021-07-24 17:55:34,840]\u001b[0m Trial 96 finished with value: -4.641680067183151 and parameters: {'n_estimators': 345, 'max_depth': 5, 'learning_rate': 0.016068606613603646, 'colsample_bytree': 0.5121775927860783, 'subsample': 0.4176315293015889, 'alpha': 0.035014625765345364, 'lambda': 1.5325447872582428e-05, 'min_child_weight': 269.4584317763267}. Best is trial 4 with value: -5.859036230099098.\u001b[0m\n",
      "\u001b[32m[I 2021-07-24 17:55:36,851]\u001b[0m Trial 97 finished with value: -5.859036230099098 and parameters: {'n_estimators': 951, 'max_depth': 5, 'learning_rate': 0.012786884353939263, 'colsample_bytree': 0.5350672912697936, 'subsample': 0.5090589771205798, 'alpha': 0.7757660564886326, 'lambda': 2.2802819354855057e-08, 'min_child_weight': 789.2402821159708}. Best is trial 4 with value: -5.859036230099098.\u001b[0m\n",
      "\u001b[32m[I 2021-07-24 17:55:38,962]\u001b[0m Trial 98 finished with value: -5.859036230099098 and parameters: {'n_estimators': 992, 'max_depth': 11, 'learning_rate': 0.018047606954261837, 'colsample_bytree': 0.3030589406458065, 'subsample': 0.6403054402454275, 'alpha': 0.18253280215831785, 'lambda': 3.033477360272859e-08, 'min_child_weight': 471.7111070656462}. Best is trial 4 with value: -5.859036230099098.\u001b[0m\n",
      "\u001b[32m[I 2021-07-24 17:55:39,331]\u001b[0m Trial 99 finished with value: -5.859036230099098 and parameters: {'n_estimators': 140, 'max_depth': 10, 'learning_rate': 0.03242951854255611, 'colsample_bytree': 0.5382128815699189, 'subsample': 0.7020103645981939, 'alpha': 3.46735987177006, 'lambda': 6.7266458496351e-05, 'min_child_weight': 835.0059308980299}. Best is trial 4 with value: -5.859036230099098.\u001b[0m\n"
     ]
    },
    {
     "name": "stdout",
     "output_type": "stream",
     "text": [
      "        n_estimators : 283\n",
      "           max_depth : 9\n",
      "       learning_rate : 0.007877744754433577\n",
      "    colsample_bytree : 0.4975251655932528\n",
      "           subsample : 0.5084575276769833\n",
      "               alpha : 0.3483730757916216\n",
      "              lambda : 0.00892116947224734\n",
      "    min_child_weight : 736.629287325251\n",
      "best objective value : -5.859036230099098\n"
     ]
    }
   ],
   "source": [
    "sampler = TPESampler(seed=RS, multivariate=MULTIVARIATE)\n",
    "study = create_study(direction=\"minimize\", sampler=sampler)\n",
    "study.optimize(\n",
    "    lambda trial: objective(\n",
    "        trial,\n",
    "        np.array(X),\n",
    "        np.array(y),\n",
    "        random_state=RS,\n",
    "        n_splits=N_SPLITS,\n",
    "        n_repeats=N_REPEATS,\n",
    "        n_jobs=1,\n",
    "        early_stopping_rounds=EARLY_STOPPING_ROUNDS,\n",
    "    ),\n",
    "    n_trials=N_TRIALS,\n",
    "    n_jobs=1,\n",
    ")\n",
    "\n",
    "# display params\n",
    "hp = study.best_params\n",
    "for key, value in hp.items():\n",
    "    print(f\"{key:>20s} : {value}\")\n",
    "print(f\"{'best objective value':>20s} : {study.best_value}\")"
   ]
  },
  {
   "cell_type": "code",
   "execution_count": 359,
   "metadata": {},
   "outputs": [
    {
     "data": {
      "text/html": [
       "<div>\n",
       "<style scoped>\n",
       "    .dataframe tbody tr th:only-of-type {\n",
       "        vertical-align: middle;\n",
       "    }\n",
       "\n",
       "    .dataframe tbody tr th {\n",
       "        vertical-align: top;\n",
       "    }\n",
       "\n",
       "    .dataframe thead th {\n",
       "        text-align: right;\n",
       "    }\n",
       "</style>\n",
       "<table border=\"1\" class=\"dataframe\">\n",
       "  <thead>\n",
       "    <tr style=\"text-align: right;\">\n",
       "      <th></th>\n",
       "      <th>number</th>\n",
       "      <th>value</th>\n",
       "      <th>datetime_start</th>\n",
       "      <th>datetime_complete</th>\n",
       "      <th>duration</th>\n",
       "      <th>params_alpha</th>\n",
       "      <th>params_colsample_bytree</th>\n",
       "      <th>params_lambda</th>\n",
       "      <th>params_learning_rate</th>\n",
       "      <th>params_max_depth</th>\n",
       "      <th>params_min_child_weight</th>\n",
       "      <th>params_n_estimators</th>\n",
       "      <th>params_subsample</th>\n",
       "      <th>state</th>\n",
       "    </tr>\n",
       "  </thead>\n",
       "  <tbody>\n",
       "    <tr>\n",
       "      <th>0</th>\n",
       "      <td>0</td>\n",
       "      <td>0.397601</td>\n",
       "      <td>2021-07-24 17:53:36.141611</td>\n",
       "      <td>2021-07-24 17:53:36.652661</td>\n",
       "      <td>0 days 00:00:00.511050</td>\n",
       "      <td>0.066369</td>\n",
       "      <td>0.330877</td>\n",
       "      <td>0.010272</td>\n",
       "      <td>0.018676</td>\n",
       "      <td>10</td>\n",
       "      <td>61.794528</td>\n",
       "      <td>150</td>\n",
       "      <td>0.522237</td>\n",
       "      <td>COMPLETE</td>\n",
       "    </tr>\n",
       "    <tr>\n",
       "      <th>1</th>\n",
       "      <td>1</td>\n",
       "      <td>-0.102586</td>\n",
       "      <td>2021-07-24 17:53:36.654328</td>\n",
       "      <td>2021-07-24 17:53:37.891449</td>\n",
       "      <td>0 days 00:00:01.237121</td>\n",
       "      <td>8.413275</td>\n",
       "      <td>0.228923</td>\n",
       "      <td>0.000162</td>\n",
       "      <td>0.019864</td>\n",
       "      <td>10</td>\n",
       "      <td>19.069654</td>\n",
       "      <td>317</td>\n",
       "      <td>0.524003</td>\n",
       "      <td>COMPLETE</td>\n",
       "    </tr>\n",
       "    <tr>\n",
       "      <th>2</th>\n",
       "      <td>2</td>\n",
       "      <td>0.467931</td>\n",
       "      <td>2021-07-24 17:53:37.893436</td>\n",
       "      <td>2021-07-24 17:53:38.366668</td>\n",
       "      <td>0 days 00:00:00.473232</td>\n",
       "      <td>0.060307</td>\n",
       "      <td>0.539191</td>\n",
       "      <td>0.000999</td>\n",
       "      <td>0.020634</td>\n",
       "      <td>10</td>\n",
       "      <td>64.561404</td>\n",
       "      <td>90</td>\n",
       "      <td>0.615873</td>\n",
       "      <td>COMPLETE</td>\n",
       "    </tr>\n",
       "    <tr>\n",
       "      <th>3</th>\n",
       "      <td>3</td>\n",
       "      <td>0.024846</td>\n",
       "      <td>2021-07-24 17:53:38.370081</td>\n",
       "      <td>2021-07-24 17:53:39.665233</td>\n",
       "      <td>0 days 00:00:01.295152</td>\n",
       "      <td>8.980394</td>\n",
       "      <td>0.560843</td>\n",
       "      <td>0.000001</td>\n",
       "      <td>0.016807</td>\n",
       "      <td>8</td>\n",
       "      <td>15.637182</td>\n",
       "      <td>184</td>\n",
       "      <td>0.777519</td>\n",
       "      <td>COMPLETE</td>\n",
       "    </tr>\n",
       "    <tr>\n",
       "      <th>4</th>\n",
       "      <td>4</td>\n",
       "      <td>-5.859036</td>\n",
       "      <td>2021-07-24 17:53:39.668519</td>\n",
       "      <td>2021-07-24 17:53:40.427762</td>\n",
       "      <td>0 days 00:00:00.759243</td>\n",
       "      <td>0.348373</td>\n",
       "      <td>0.497525</td>\n",
       "      <td>0.008921</td>\n",
       "      <td>0.007878</td>\n",
       "      <td>9</td>\n",
       "      <td>736.629287</td>\n",
       "      <td>283</td>\n",
       "      <td>0.508458</td>\n",
       "      <td>COMPLETE</td>\n",
       "    </tr>\n",
       "  </tbody>\n",
       "</table>\n",
       "</div>"
      ],
      "text/plain": [
       "   number     value             datetime_start          datetime_complete  \\\n",
       "0       0  0.397601 2021-07-24 17:53:36.141611 2021-07-24 17:53:36.652661   \n",
       "1       1 -0.102586 2021-07-24 17:53:36.654328 2021-07-24 17:53:37.891449   \n",
       "2       2  0.467931 2021-07-24 17:53:37.893436 2021-07-24 17:53:38.366668   \n",
       "3       3  0.024846 2021-07-24 17:53:38.370081 2021-07-24 17:53:39.665233   \n",
       "4       4 -5.859036 2021-07-24 17:53:39.668519 2021-07-24 17:53:40.427762   \n",
       "\n",
       "                duration  params_alpha  params_colsample_bytree  \\\n",
       "0 0 days 00:00:00.511050      0.066369                 0.330877   \n",
       "1 0 days 00:00:01.237121      8.413275                 0.228923   \n",
       "2 0 days 00:00:00.473232      0.060307                 0.539191   \n",
       "3 0 days 00:00:01.295152      8.980394                 0.560843   \n",
       "4 0 days 00:00:00.759243      0.348373                 0.497525   \n",
       "\n",
       "   params_lambda  params_learning_rate  params_max_depth  \\\n",
       "0       0.010272              0.018676                10   \n",
       "1       0.000162              0.019864                10   \n",
       "2       0.000999              0.020634                10   \n",
       "3       0.000001              0.016807                 8   \n",
       "4       0.008921              0.007878                 9   \n",
       "\n",
       "   params_min_child_weight  params_n_estimators  params_subsample     state  \n",
       "0                61.794528                  150          0.522237  COMPLETE  \n",
       "1                19.069654                  317          0.524003  COMPLETE  \n",
       "2                64.561404                   90          0.615873  COMPLETE  \n",
       "3                15.637182                  184          0.777519  COMPLETE  \n",
       "4               736.629287                  283          0.508458  COMPLETE  "
      ]
     },
     "execution_count": 359,
     "metadata": {},
     "output_type": "execute_result"
    }
   ],
   "source": [
    "hist = study.trials_dataframe()\n",
    "hist.head()"
   ]
  },
  {
   "cell_type": "code",
   "execution_count": 380,
   "metadata": {},
   "outputs": [],
   "source": [
    "dict_ = study.best_trial.params\n",
    "del dict_['min_child_weight']"
   ]
  },
  {
   "cell_type": "code",
   "execution_count": 381,
   "metadata": {},
   "outputs": [],
   "source": [
    "model = XGBRegressor(**dict_, seed = RS)"
   ]
  },
  {
   "cell_type": "code",
   "execution_count": null,
   "metadata": {},
   "outputs": [],
   "source": []
  },
  {
   "cell_type": "code",
   "execution_count": 382,
   "metadata": {},
   "outputs": [
    {
     "data": {
      "text/plain": [
       "XGBRegressor(alpha=0.3483730757916216, base_score=0.5, booster='gbtree',\n",
       "             colsample_bylevel=1, colsample_bynode=1,\n",
       "             colsample_bytree=0.4975251655932528, gamma=0, gpu_id=-1,\n",
       "             importance_type='gain', interaction_constraints='',\n",
       "             lambda=0.00892116947224734, learning_rate=0.007877744754433577,\n",
       "             max_delta_step=0, max_depth=9, min_child_weight=1, missing=nan,\n",
       "             monotone_constraints='()', n_estimators=283, n_jobs=4,\n",
       "             num_parallel_tree=1, random_state=124, reg_alpha=0.348373085,\n",
       "             reg_lambda=0.00892116968, scale_pos_weight=1, seed=124,\n",
       "             subsample=0.5084575276769833, tree_method='exact',\n",
       "             validate_parameters=1, verbosity=None)"
      ]
     },
     "execution_count": 382,
     "metadata": {},
     "output_type": "execute_result"
    }
   ],
   "source": [
    "model.fit(X, y)"
   ]
  },
  {
   "cell_type": "code",
   "execution_count": 375,
   "metadata": {},
   "outputs": [
    {
     "data": {
      "text/plain": [
       "XGBRegressor(base_score=0.5, booster='gbtree', colsample_bylevel=1,\n",
       "             colsample_bynode=1, colsample_bytree=1, gamma=0, gpu_id=-1,\n",
       "             importance_type='gain', interaction_constraints='',\n",
       "             learning_rate=0.300000012, max_delta_step=0, max_depth=6,\n",
       "             min_child_weight=1, missing=nan, monotone_constraints='()',\n",
       "             n_estimators=100, n_jobs=4, num_parallel_tree=1, random_state=0,\n",
       "             reg_alpha=0, reg_lambda=1, scale_pos_weight=1, subsample=1,\n",
       "             tree_method='exact', validate_parameters=1, verbosity=None)"
      ]
     },
     "execution_count": 375,
     "metadata": {},
     "output_type": "execute_result"
    }
   ],
   "source": [
    "m = XGBRegressor()\n",
    "m.fit(X, y)"
   ]
  },
  {
   "cell_type": "code",
   "execution_count": 383,
   "metadata": {},
   "outputs": [],
   "source": [
    "y_pred_final = m.predict(X_test_lag_encoded)"
   ]
  },
  {
   "cell_type": "code",
   "execution_count": 384,
   "metadata": {},
   "outputs": [
    {
     "data": {
      "text/plain": [
       "array([101.290924, 151.58711 , 143.76726 , 136.5048  , 162.2293  ,\n",
       "       165.38501 ,  15.871558,  58.23055 , 134.34067 , 143.9051  ,\n",
       "       136.0265  , 133.21861 ,  84.25726 , 136.92822 , 136.97125 ,\n",
       "       139.81265 , 123.71712 , 136.78465 , 141.0193  , 140.05325 ,\n",
       "       150.00853 , 139.79169 , 137.75221 ,  33.466213,  80.84046 ,\n",
       "        35.31062 ,  29.777761,  30.53805 ,  24.484404, 203.35306 ,\n",
       "       160.78476 , 164.48694 ,  27.350193,  26.233673,  64.89288 ,\n",
       "       134.15965 , 143.58313 , 138.98148 , 135.71758 , 108.412186,\n",
       "        47.94861 ,  98.52904 , 161.41228 , 159.01701 , 362.65704 ,\n",
       "        39.177258, 188.99612 , 200.22566 , 101.08704 ,  53.585953,\n",
       "        49.62226 , 130.90495 ,  49.15109 ,  38.60588 ,  56.625153,\n",
       "       161.8345  , 177.35622 , 203.4774  , 201.36682 , 137.00441 ,\n",
       "       126.06006 , 132.74469 , 131.64082 , 136.02754 , 135.95222 ,\n",
       "       139.49033 , 136.20197 , 135.68347 , 136.08336 , 131.9779  ,\n",
       "       138.88623 ,  82.3199  ,  81.0132  ,  47.37366 ,  46.371334,\n",
       "        47.03697 ,  26.755987, 130.74834 , 108.045845,   8.181774,\n",
       "        50.48791 ,  45.66615 , 155.0375  , 105.56503 ,  36.74855 ,\n",
       "       126.85086 ,  64.74892 ,  21.245314,  34.64051 ,  90.90376 ,\n",
       "        73.79015 ,  45.39287 ,  97.087296,  88.82938 ,  34.091927,\n",
       "        48.566345], dtype=float32)"
      ]
     },
     "execution_count": 384,
     "metadata": {},
     "output_type": "execute_result"
    }
   ],
   "source": [
    "y_pred_final"
   ]
  },
  {
   "cell_type": "code",
   "execution_count": 385,
   "metadata": {},
   "outputs": [
    {
     "data": {
      "text/html": [
       "<div>\n",
       "<style scoped>\n",
       "    .dataframe tbody tr th:only-of-type {\n",
       "        vertical-align: middle;\n",
       "    }\n",
       "\n",
       "    .dataframe tbody tr th {\n",
       "        vertical-align: top;\n",
       "    }\n",
       "\n",
       "    .dataframe thead th {\n",
       "        text-align: right;\n",
       "    }\n",
       "</style>\n",
       "<table border=\"1\" class=\"dataframe\">\n",
       "  <thead>\n",
       "    <tr style=\"text-align: right;\">\n",
       "      <th></th>\n",
       "      <th>y_test</th>\n",
       "      <th>y_pred</th>\n",
       "    </tr>\n",
       "  </thead>\n",
       "  <tbody>\n",
       "    <tr>\n",
       "      <th>0</th>\n",
       "      <td>103.68</td>\n",
       "      <td>101.290924</td>\n",
       "    </tr>\n",
       "    <tr>\n",
       "      <th>1</th>\n",
       "      <td>155.75</td>\n",
       "      <td>151.587112</td>\n",
       "    </tr>\n",
       "    <tr>\n",
       "      <th>2</th>\n",
       "      <td>143.02</td>\n",
       "      <td>143.767258</td>\n",
       "    </tr>\n",
       "    <tr>\n",
       "      <th>3</th>\n",
       "      <td>139.39</td>\n",
       "      <td>136.504807</td>\n",
       "    </tr>\n",
       "    <tr>\n",
       "      <th>4</th>\n",
       "      <td>169.42</td>\n",
       "      <td>162.229294</td>\n",
       "    </tr>\n",
       "  </tbody>\n",
       "</table>\n",
       "</div>"
      ],
      "text/plain": [
       "   y_test      y_pred\n",
       "0  103.68  101.290924\n",
       "1  155.75  151.587112\n",
       "2  143.02  143.767258\n",
       "3  139.39  136.504807\n",
       "4  169.42  162.229294"
      ]
     },
     "execution_count": 385,
     "metadata": {},
     "output_type": "execute_result"
    }
   ],
   "source": [
    "df_final = pd.DataFrame()\n",
    "df_final['y_test']  = y_test_final\n",
    "df_final['y_pred'] = y_pred_final\n",
    "df_final.reset_index(inplace = True, drop = True)\n",
    "df_final.head()"
   ]
  },
  {
   "cell_type": "code",
   "execution_count": 386,
   "metadata": {},
   "outputs": [
    {
     "data": {
      "image/png": "[encoded data removed]",
      "text/plain": [
       "<Figure size 1440x576 with 1 Axes>"
      ]
     },
     "metadata": {},
     "output_type": "display_data"
    }
   ],
   "source": [
    "df_final.plot(figsize = (20, 8))\n",
    "plt.show()"
   ]
  },
  {
   "cell_type": "code",
   "execution_count": null,
   "metadata": {},
   "outputs": [],
   "source": []
  }
 ],
 "metadata": {
  "kernelspec": {
   "display_name": "neuralprophet",
   "language": "python",
   "name": "neuralprophet"
  },
  "language_info": {
   "codemirror_mode": {
    "name": "ipython",
    "version": 3
   },
   "file_extension": ".py",
   "mimetype": "text/x-python",
   "name": "python",
   "nbconvert_exporter": "python",
   "pygments_lexer": "ipython3",
   "version": "3.6.12"
  }
 },
 "nbformat": 4,
 "nbformat_minor": 4
}
